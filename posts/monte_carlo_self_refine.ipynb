{
 "cells": [
  {
   "cell_type": "markdown",
   "id": "aee90797",
   "metadata": {},
   "source": [
    "---\n",
    "aliases:\n",
    "- /mcts/\n",
    "categories:\n",
    "- Prompting\n",
    "date: '2024-09-30'\n",
    "colab: <a href=\"https://colab.research.google.com/drive/1tPEphu8GjZJOkzf8RBvH-bWYXELByb1n#scrollTo=gyC3cBHrjNqY\"><img src=\"images/colab.png\" alt=\"Open In Colab\"></a>\n",
    "image: /images/mcts/thumbnail.jpg\n",
    "title: \"Monte Carlo Tree Self-Refine\"\n",
    "subtitle: \"Unlocking Advanced Mathematical Reasoning with Monte Carlo Tree Self-Refine\"\n",
    "---"
   ]
  },
  {
   "cell_type": "markdown",
   "id": "ca37349f-fe3c-40d2-9078-a1bdeca65821",
   "metadata": {},
   "source": [
    "<center>\n",
    "    <img src=\"images/mcts/thumbnail.jpg\" alt=\"Image\">\n",
    "</center>\n",
    "\n",
    "The rapid advancement of artificial intelligence has ushered in a new era of large language models (LLMs) like GPT-4 and LLaMA. These models have demonstrated remarkable abilities in natural language understanding, generation, and even exhibited emergent properties such as reasoning and in-context learning. They have been deployed across various domains, from generating coherent narratives to assisting in programming tasks. However, when it comes to complex mathematical reasoning, especially at the level of mathematical Olympiads, these models often fall short.\n",
    "\n",
    "Despite their impressive linguistic capabilities, LLMs struggle with the precision and logical rigor required for high-level mathematics. They are prone to generating \"hallucinations\" - plausible-sounding but incorrect or irrelevant outputs - which can be particularly problematic in mathematical contexts where accuracy is paramount. Traditional methods to mitigate these issues, such as self-refinement techniques, provide some relief but do not fully bridge the gap.\n",
    "\n",
    "Enter the **Monte Carlo Tree Self-Refine (MCTSr)** algorithm - a novel integration of LLMs with Monte Carlo Tree Search (MCTS). This innovative approach systematically explores the solution space and employs heuristic self-refinement mechanisms to enhance decision-making within LLMs. By constructing a Monte Carlo search tree through iterative processes of selection, self-refinement, self-evaluation, and backpropagation, MCTSr optimizes the balance between exploration and exploitation. The result is a significant improvement in the LLM's ability to solve complex mathematical problems, reaching success rates comparable to GPT-4 on Olympiad-level benchmarks.\n",
    "\n",
    "In this article, we delve into the theoretical underpinnings of the MCTSr technique, explore its implementation through code examples, and demonstrate its effectiveness in enhancing mathematical reasoning in LLMs. Whether you're an AI researcher, a data scientist, or simply curious about the intersection of machine learning and mathematics, this exploration offers valuable insights into pushing the boundaries of what LLMs can achieve."
   ]
  },
  {
   "cell_type": "markdown",
   "id": "db16c128",
   "metadata": {},
   "source": [
    "## Theoretical Foundations of Monte Carlo Tree Self-Refine\n",
    "To understand the Monte Carlo Tree Self-Refine (MCTSr) technique, it's essential to grasp the fundamentals of both Monte Carlo Tree Search (MCTS) and the limitations of LLMs in mathematical reasoning. MCTSr marries these two domains to overcome the challenges inherent in each.\n",
    "\n",
    "### Monte Carlo Tree Search (MCTS) Primer\n",
    "MCTS is a heuristic search algorithm used extensively in decision-making processes, particularly in game playing (like Go and chess) and complex problem-solving scenarios. The algorithm incrementally builds a search tree, guided by the outcomes of random simulations (also known as rollouts), to evaluate the potential of different actions.\n",
    "\n",
    "### MCTS operates through four primary phases:\n",
    "1. **Selection:** Starting from the root node, the algorithm selects child nodes based on a policy (e.g., the Upper Confidence Bound for Trees, or UCT) until it reaches a leaf node.\n",
    "2. **Expansion:** If the leaf node is not a terminal state, the algorithm adds one or more child nodes, representing possible future states.\n",
    "3. **Simulation (Rollout):** From the new node, the algorithm performs a simulation to the end of the game or task, using a default policy to make decisions.\n",
    "4. **Backpropagation:** The results of the simulation are propagated back up the tree, updating the statistics of the nodes involved (e.g., win/loss records).\n",
    "\n",
    "The key to MCTS's success is balancing exploration (trying new, untested actions) and exploitation (choosing actions known to yield good results). This balance is often achieved using the **Upper Confidence Bound for Trees algorithm (UCT)**, which selects child nodes that maximize the following equation:\n",
    "\n",
    "<center>\n",
    "    <img src=\"images/mcts/UCT formula.png\" alt=\"Image\">\n",
    "</center>\n",
    "\n",
    "<center>\n",
    "    <img src=\"images/mcts/UCT_legend.png\" alt=\"Image\">\n",
    "</center>\n",
    "\n",
    "## Challenges in Applying MCTS to LLMs\n",
    "While MCTS is powerful, directly applying it to LLMs isn't straightforward. LLMs generate outputs in a continuous and infinite space, making the action space vast and unbounded. Traditional MCTS relies on discrete, finite action spaces. Moreover, LLMs can produce inconsistent outputs due to their generative nature, complicating the evaluation of states and actions.\n",
    "\n",
    "## Introducing Monte Carlo Tree Self-Refine (MCTSr)\n",
    "MCTSr addresses these challenges by integrating self-refinement and self-evaluation mechanisms into the MCTS framework. It adapts the traditional MCTS algorithm to operate effectively within the context of LLMs tackling mathematical problems.\n",
    "\n",
    "## Key Components and Notations\n",
    "Before diving into the algorithm, let's define the key components and notations:\n",
    "\n",
    "- **Problem Instance *(P)*:** The mathematical problem to be solved.\n",
    "- **Answer Nodes *(A)*:** Each node represents a potential solution to *P*.\n",
    "- **Actions *(M)*:** Possible self-refinement modifications to an answer.\n",
    "- **Reward Function *(R)*:** Samples self-rewards based on the quality of the modifications.\n",
    "- **Reward Set *(Ra)*:** Stores all reward samples for node *a*.\n",
    "- **Quality Function *(Q(a))*:** Estimates the value of an answer node *a*, derived from accumulated rewards.\n",
    "- **Upper Confidence Bound *(U(a))*:** Balances exploration and exploitation in node selection.\n",
    "- **Parent Node *(Father(a))*:** The node from which *a* was derived.\n",
    "- **Child Nodes *(Children(a))*:** Nodes derived from *a* through actions *m ∈ M*.\n",
    "- **Visit Count *(N(a))*:** The number of times node *a* has been visited.\n",
    "\n",
    "\n",
    "## Algorithm Workflow\n",
    "1. Initialization: Start with a root node representing an initial answer to *P*. This could be a naive solution or even a placeholder response like \"I don't know.\"\n",
    "\n",
    "2. Selection:\n",
    "- Use the quality function *Q* to evaluate all expandable nodes.\n",
    "- Select the node with the highest *U(a)* value for further exploration.\n",
    "\n",
    "3. Self-Refinement:\n",
    "- Apply a self-refinement action *m* to the selected node *a*.\n",
    "- The LLM generates feedback or criticism about *a* and produces an improved answer *a'* guided by this feedback.\n",
    "\n",
    "4. Self-Evaluation:\n",
    "- The LLM evaluates *a'* to assign a reward, sampling multiple times to reduce variance.\n",
    "- Apply constraints to ensure meaningful rewards:\n",
    "    - **Prompt Constraint:** Instruct the model to adhere to strict evaluation standards.\n",
    "    - **Full Score Suppression:** Discourage perfect scores to maintain discernment.\n",
    "    - **Repeated Sampling:** Collect multiple reward samples to improve reliability. \n",
    "\n",
    "5. Backpropagation:\n",
    "- Update the *Q* values of *a* and its ancestors based on the rewards obtained.\n",
    "- The updated *Q* value of a node *a* considers both its own reward and the maximum *Q* value among its children.\n",
    "\n",
    "6. UCT Update:\n",
    "- Recalculate *U(a)* for all candidate nodes.\n",
    "\n",
    "7. Termination:\n",
    "- The process repeats until a termination condition is met (e.g., maximum iterations, satisfactory solution quality).\n",
    "- Upon termination, select the best answer based on the highest *Q(a)* value.\n",
    "\n",
    "## Detailed Explanation of Components\n",
    "### Self-Refinement\n",
    "Self-refinement leverages the LLM's capability to critique and improve upon its own outputs. The model generates feedback m on the current answer a and then refines a into a' based on this feedback. This process simulates a human iteratively improving a solution by self-critique.\n",
    "\n",
    "###Self-Evaluation\n",
    "In self-evaluation, the LLM assesses the quality of the refined answer a' and assigns a reward. Since LLMs tend to produce overly generous evaluations, constraints are necessary:\n",
    "- **Prompt Constraint:** The model is instructed to be strict and critical in its evaluation.\n",
    "- **Full Score Suppression:** Perfect scores are penalized to encourage meaningful differentiation.\n",
    "- **Repeated Sampling:** Multiple evaluations are averaged to reduce bias.\n",
    "\n",
    "The quality function Q(a) is computed as:\n",
    "\n",
    "<center>\n",
    "    <img src=\"images/mcts/quality_function.png\" alt=\"Image\">\n",
    "</center>\n",
    "\n",
    "This formula balances the worst-case scenario (min Ra) with the average reward, providing a more robust estimate of the answer's quality.\n",
    "\n",
    "### Backpropagation\n",
    "After updating the *Q(a)* of *a*, the algorithm backpropagates this information up the tree. The *Q* value of each parent node is updated based on its own *Q(a)* and the maximum *Q* value among its children:\n",
    "\n",
    "<center>\n",
    "    <img src=\"images/mcts/backpropagation_formula.png\" alt=\"Image\">\n",
    "</center>\n",
    "\n",
    "This ensures that the parent nodes are aware of the best potential outcomes from their descendants.\n",
    "\n",
    "### UCT Update and Selection\n",
    "The updated UCT value for each candidate node guides the selection of the next node to explore. By balancing the estimated quality of the node *(Q(a))* and the need to explore less-visited nodes, the algorithm efficiently navigates the search space.\n",
    "\n",
    "\n",
    "### Termination Conditions\n",
    "The algorithm can terminate based on various criteria:\n",
    "- **Early Stopping:** If improvements become negligible or solutions converge.\n",
    "- **Resource Constraints:** Maximum number of iterations or time limits.\n",
    "- **Solution Quality:** If a solution meets a predefined quality threshold.\n",
    "\n",
    "### Advantages of MCTSr\n",
    "- **Systematic Exploration:** By structuring the search as a tree, the algorithm systematically explores possible refinements.\n",
    "- **Balanced Decision-Making:** The UCT formula ensures a balance between exploiting known good solutions and exploring new possibilities.\n",
    "- **Enhanced Accuracy:** Self-evaluation and refinement lead to higher-quality solutions, reducing errors common in LLM outputs.\n",
    "- **Scalability:** The framework can adapt to various problem complexities by adjusting parameters like the exploration constant c and termination conditions.\n"
   ]
  },
  {
   "cell_type": "markdown",
   "id": "c487a99d",
   "metadata": {},
   "source": [
    "## Practical Implementation of MCTSr\n",
    "To bring the theoretical concepts of MCTSr to life, let's delve into a practical implementation using Python code. This implementation demonstrates how the algorithm can be applied to improve the performance of an LLM in solving mathematical problems.\n",
    "\n",
    "### Setting Up Seed Answers"
   ]
  },
  {
   "cell_type": "code",
   "execution_count": null,
   "id": "6f01aa9b",
   "metadata": {},
   "outputs": [],
   "source": [
    "# Seed answers to initiate the MCTS\n",
    "seed_answers = [\n",
    "    \"I don't know the answer\",\n",
    "    \"I'm not sure\",\n",
    "    \"I can't say\",\n",
    "]"
   ]
  },
  {
   "cell_type": "markdown",
   "id": "32ab55d2",
   "metadata": {},
   "source": [
    "### Critiquing an Answer\n",
    "The critique_answer function prompts the LLM to analyze a given answer and provide a detailed critique. This critique will guide the refinement process."
   ]
  },
  {
   "cell_type": "code",
   "execution_count": null,
   "id": "2d97c799",
   "metadata": {},
   "outputs": [],
   "source": [
    "# Get Critique\n",
    "def critique_answer(question, answer):\n",
    "    prompt = (\n",
    "        f\"Question: {question}\\n\"\n",
    "        f\"Answer Attempt: {answer}\\n\"\n",
    "        \"Please analyze the answer above. \"\n",
    "        \"Identify any inaccuracies or areas lacking detail. \"\n",
    "        \"Provide a thorough critique, highlighting specific flaws and suggesting improvements. \"\n",
    "        \"Your critique should be detailed and step-by-step. \"\n",
    "        \"Do not provide a revised answer.\"\n",
    "    )\n",
    "    # Request critique from the language model\n",
    "    return chat_completion_request(prompt)"
   ]
  },
  {
   "cell_type": "markdown",
   "id": "1f766b42",
   "metadata": {},
   "source": [
    "**Explanation:** This function constructs a prompt that includes the question and the current answer. It instructs the LLM to provide a detailed critique without offering a revised answer."
   ]
  },
  {
   "cell_type": "markdown",
   "id": "83b594b9",
   "metadata": {},
   "source": [
    "### Refining the Answer\n",
    "Using the critique, the refine_answer function prompts the LLM to generate an improved answer."
   ]
  },
  {
   "cell_type": "code",
   "execution_count": null,
   "id": "eb593f9e",
   "metadata": {},
   "outputs": [],
   "source": [
    "# Improve the answer\n",
    "def refine_answer(question, answer, critique):\n",
    "    prompt = (\n",
    "        f\"Question: {question}\\n\"\n",
    "        f\"Current Answer: {answer}\\n\"\n",
    "        f\"Feedback: {critique}\\n\\n\"\n",
    "        \"Based on the feedback, refine the answer to address all the points raised. \"\n",
    "        \"Ensure the new answer is accurate, detailed, and well-structured. \"\n",
    "        \"Present your reasoning process and verification steps before providing the final answer.\"\n",
    "    )\n",
    "    # Request refined answer from the language model\n",
    "    return chat_completion_request(prompt)"
   ]
  },
  {
   "cell_type": "markdown",
   "id": "62ba6b37",
   "metadata": {},
   "source": [
    "**Explanation:** This function constructs a prompt that includes the question, the current answer, and the critique. It instructs the LLM to refine the answer based on the feedback."
   ]
  },
  {
   "cell_type": "markdown",
   "id": "23fbcdf0",
   "metadata": {},
   "source": [
    "### Evaluating the Answer\n",
    "The evaluate_answer function asks the LLM to assess the refined answer, provide a critique, and assign a numerical rating."
   ]
  },
  {
   "cell_type": "code",
   "execution_count": null,
   "id": "058de421",
   "metadata": {},
   "outputs": [],
   "source": [
    "def evaluate_answer(question, answer):\n",
    "    prompt = (\n",
    "        f\"Question: {question}\\n\"\n",
    "        f\"Answer: {answer}\\n\"\n",
    "        \"As an expert, assess the answer above for correctness and completeness. \"\n",
    "        \"Provide a detailed critique, pointing out any issues. \"\n",
    "        \"Then, assign a rating between 0 and 100, where 100 represents a perfect answer. \"\n",
    "        \"Format:\\n\"\n",
    "        \"Critique: <Your detailed critique>\\n\"\n",
    "        \"Rating: <Numerical rating>\"\n",
    "    )\n",
    "    # Request evaluation from the language model\n",
    "    evaluation = chat_completion_request(prompt)\n",
    "    \n",
    "    # Extract the rating from the evaluation\n",
    "    try:\n",
    "        match = re.search(r'Rating:\\s*(\\d+\\.?\\d*)', evaluation)\n",
    "        if match:\n",
    "            rating = float(match.group(1))\n",
    "            rating = min(rating, 95)  # Cap the rating at 95\n",
    "            rating /= 100.0\n",
    "        else:\n",
    "            raise ValueError(\"Rating not found in the evaluation.\")\n",
    "    except Exception as e:\n",
    "        print(f\"Error extracting rating: {e}\")\n",
    "        print(f\"Evaluation response: {evaluation}\")\n",
    "        rating = 0.0\n",
    "    \n",
    "    print(f\"\\nEvaluation Response:\\n{evaluation}\")\n",
    "    return rating"
   ]
  },
  {
   "cell_type": "markdown",
   "id": "bc01d6e2",
   "metadata": {},
   "source": [
    "**Explanation:** The function prompts the LLM to critique the answer and assign a rating. It then parses the LLM's response to extract the numerical rating, capping it at 95 to prevent overconfidence and normalizing it to a value between 0 and 1."
   ]
  },
  {
   "cell_type": "markdown",
   "id": "252210e6",
   "metadata": {},
   "source": [
    "### Defining the Tree Node Structure\n",
    "We define a TreeNode class to represent nodes in the MCTS tree. Each node contains an answer and references to its parent and children."
   ]
  },
  {
   "cell_type": "code",
   "execution_count": null,
   "id": "de1de342",
   "metadata": {},
   "outputs": [],
   "source": [
    "import math\n",
    "import random\n",
    "import numpy as np\n",
    "import re\n",
    "\n",
    "# Define the maximum number of children per node\n",
    "MAX_CHILDREN = 3\n",
    "\n",
    "class TreeNode:\n",
    "    def __init__(self, question, answer, parent=None):\n",
    "        self.question = question\n",
    "        self.answer = answer\n",
    "        self.parent = parent\n",
    "        self.children = []\n",
    "        self.visits = 0\n",
    "        self.value = 0.0\n",
    "        self.Ra = []  # List to store all reward samples\n",
    "        self.Q = 0.0  # Quality value Q(a)\n",
    "\n",
    "    def fully_expanded(self):\n",
    "        return len(self.children) >= MAX_CHILDREN\n",
    "\n",
    "    def select_promising_child(self, exploration_param=1.41):\n",
    "        best_score = float('-inf')\n",
    "        best_child = None\n",
    "        for child in self.children:\n",
    "            if child.visits == 0:\n",
    "                ucb_score = float('inf')\n",
    "            else:\n",
    "                # Compute Q(a) using the exact formula\n",
    "                min_ra = min(child.Ra)\n",
    "                avg_ra = child.value / child.visits\n",
    "                child.Q = 0.5 * (min_ra + avg_ra)\n",
    "                \n",
    "                exploration = exploration_param * math.sqrt(2 * math.log(self.visits) / child.visits)\n",
    "                ucb_score = child.Q + exploration\n",
    "            if ucb_score > best_score:\n",
    "                best_score = ucb_score\n",
    "                best_child = child\n",
    "        return best_child\n",
    "\n",
    "    def most_visited_child(self):\n",
    "        return max(self.children, key=lambda c: c.visits, default=None)\n",
    "\n",
    "    def add_child(self, child_node):\n",
    "        self.children.append(child_node)"
   ]
  },
  {
   "cell_type": "markdown",
   "id": "f1c4306c",
   "metadata": {},
   "source": [
    "**Explanation:**\n",
    "- fully_expanded: Checks if the node has reached the maximum number of child nodes.\n",
    "- select_promising_child: Implements the UCT formula to select the most promising child node.\n",
    "- most_visited_child: Retrieves the child node with the highest visit count.\n",
    "- add_child: Adds a new child node to the current node."
   ]
  },
  {
   "cell_type": "markdown",
   "id": "cd76cc6a",
   "metadata": {},
   "source": [
    "### Implementing the Monte Carlo Tree Search\n",
    "The MonteCarloTreeSearch class orchestrates the MCTS process, integrating the functions defined earlier."
   ]
  },
  {
   "cell_type": "code",
   "execution_count": null,
   "id": "1cdf905e",
   "metadata": {},
   "outputs": [],
   "source": [
    "class MonteCarloTreeSearch:\n",
    "    def __init__(self, question, initial_answers, iterations=3):\n",
    "        self.question = question\n",
    "        self.iterations = iterations\n",
    "        # Initialize the root with a random seed answer\n",
    "        self.root = TreeNode(question, random.choice(initial_answers))\n",
    "\n",
    "    def perform_search(self):\n",
    "        for iteration in range(self.iterations):\n",
    "            print(f\"\\nIteration {iteration + 1}/{self.iterations}\")\n",
    "            node = self._tree_policy(self.root)\n",
    "            print(f\"Selected Node Answer: {node.answer}\")\n",
    "            reward = self._default_policy(node)\n",
    "            print(f\"Simulated Reward: {reward}\")\n",
    "            self._backpropagate(node, reward)\n",
    "        best_child = self.root.most_visited_child()\n",
    "        if best_child:\n",
    "            print(f\"Most Visited Child Visits: {best_child.visits}\")\n",
    "            return best_child.answer\n",
    "        else:\n",
    "            return self.root.answer\n",
    "\n",
    "    def _tree_policy(self, node):\n",
    "        while not node.fully_expanded():\n",
    "            return self._expand(node)\n",
    "        return self._best_child(node)\n",
    "\n",
    "    def _expand(self, node):\n",
    "        for _ in range(MAX_CHILDREN - len(node.children)):\n",
    "            # Generate a critique and refine the answer\n",
    "            critique = critique_answer(node.question, node.answer)\n",
    "            print(f\"\\nCritique:\\n{critique}\")\n",
    "            refined_answer = refine_answer(node.question, node.answer, critique)\n",
    "            print(f\"\\nRefined Answer:\\n{refined_answer}\")\n",
    "            # Create a new child node with the refined answer\n",
    "            child_node = TreeNode(node.question, refined_answer, parent=node)\n",
    "            node.add_child(child_node)\n",
    "        # Return one of the newly added children\n",
    "        return random.choice(node.children)\n",
    "\n",
    "    def _default_policy(self, node):\n",
    "        return evaluate_answer(node.question, node.answer)\n",
    "\n",
    "    def _backpropagate(self, node, reward):\n",
    "        while node is not None:\n",
    "            node.visits += 1\n",
    "            node.value += reward\n",
    "            node.Ra.append(reward)  # Store the reward sample\n",
    "\n",
    "            # Update Q(a) using the existing formula\n",
    "            if node.Ra:\n",
    "                min_ra = min(node.Ra)\n",
    "                avg_ra = node.value / node.visits\n",
    "                node.Q = 0.5 * (min_ra + avg_ra)\n",
    "            \n",
    "            # If the node has a parent, update the parent's Q(a) based on the formula\n",
    "            if node.parent is not None:\n",
    "                parent = node.parent\n",
    "                # Compute the maximum Q among the parent's children\n",
    "                if parent.children:\n",
    "                    max_child_Q = max(child.Q for child in parent.children if child.Q is not None)\n",
    "                    # Update the parent's Q(a)\n",
    "                    parent.Q = 0.5 * (parent.Q + max_child_Q)\n",
    "            node = node.parent\n",
    "\n",
    "    def _best_child(self, node, exploration_param=1.41):\n",
    "        return node.select_promising_child(exploration_param)"
   ]
  },
  {
   "cell_type": "markdown",
   "id": "64242e8d",
   "metadata": {},
   "source": [
    "**Explanation:**\n",
    "- perform_search: Runs the MCTS for a specified number of iterations and returns the best answer found.\n",
    "- _tree_policy: Decides whether to expand a node or move to the best child.\n",
    "- _expand: Generates critiques and refines the answer to create child nodes.\n",
    "- _default_policy: Evaluates the node's answer to simulate the reward.\n",
    "- _backpropagate: Updates the visit count and value of the nodes up the tree."
   ]
  },
  {
   "cell_type": "markdown",
   "id": "cf4d72e7",
   "metadata": {},
   "source": [
    "### Running the MCTS\n",
    "Finally, we initialize the MCTS with a question and perform the search to find the best answer."
   ]
  },
  {
   "cell_type": "code",
   "execution_count": null,
   "id": "3dc515a9",
   "metadata": {},
   "outputs": [],
   "source": [
    "mcts = MonteCarloTreeSearch(question, seed_answers, iterations=10)\n",
    "best_answer = mcts.perform_search()"
   ]
  },
  {
   "cell_type": "markdown",
   "id": "3008faa0",
   "metadata": {},
   "source": [
    "**Explanation:** We create an instance of MonteCarloTreeSearch with the question and seed answers. We specify the number of iterations (rollouts) for the search."
   ]
  },
  {
   "cell_type": "markdown",
   "id": "43878b4c",
   "metadata": {},
   "source": [
    "### Applying MCTSr to a Mathematical Problem\n",
    "Suppose we have the following mathematical question:\n",
    "Question: *\"Calculate the sum of the interior angles of a 12-sided polygon.\"*\n",
    "We can use the MCTSr implementation to find an accurate answer."
   ]
  },
  {
   "cell_type": "code",
   "execution_count": null,
   "id": "70a496cc",
   "metadata": {},
   "outputs": [],
   "source": [
    "question = \"Calculate the sum of the interior angles of a 12-sided polygon.\"\n",
    "mcts = MonteCarloTreeSearch(question, seed_answers, iterations=10)\n",
    "best_answer = mcts.perform_search()\n",
    "print(f\"\\nBest Answer:\\n{best_answer}\")"
   ]
  },
  {
   "cell_type": "markdown",
   "id": "2d84177c",
   "metadata": {},
   "source": [
    "### Output:\n",
    "(Snippet showing only the final anwer)\n",
    "\n",
    "...\n",
    "\n",
    "Best Answer:\n",
    "**Refined Answer:** Calculating the sum of interior angles of a 12-sided polygon\n",
    "\n",
    "**Step-by-step calculation:**\n",
    "\n",
    "A 12-sided polygon is called a dodecagon. Using the formula for the sum of interior angles of a polygon, we can calculate the sum:\n",
    "\n",
    "Sum of interior angles = (n-2) × 180\n",
    "\n",
    "Where n is the number of sides.\n",
    "\n",
    "In this case, n = 12, so:\n",
    "Sum of interior angles = (12 - 2) × 180\n",
    "= 10 × 180\n",
    "= 1800\n",
    "\n",
    "**Reasoning and Verification:**\n",
    "\n",
    "The formula for the sum of interior angles of a polygon is derived from the fact that each interior angle is supplementary to its adjacent exterior angle. By applying this formula to a dodecagon, we can calculate the sum of its interior angles.\n",
    "\n",
    "To verify the answer, we can also use a different approach. The sum of interior angles of a polygon is also equal to (n-2) × 180, where n is the number of sides. Since we have already shown that n = 12, we can substitute this value into the formula:\n",
    "\n",
    "Sum of interior angles = (12 - 2) × 180\n",
    "= 10 × 180\n",
    "= 1800\n",
    "\n",
    "**Final Answer:** The sum of the interior angles of a 12-sided polygon is 1800 degrees.\n",
    "\n",
    "This refined answer demonstrates a clear understanding of the problem and provides a step-by-step calculation using relevant mathematical concepts. It also includes a verification step to ensure the answer is accurate.\n",
    "\n",
    "...\n"
   ]
  },
  {
   "cell_type": "markdown",
   "id": "b90cd7ee",
   "metadata": {},
   "source": [
    "**Explanation:** The MCTS starts with a seed answer and iteratively refines it. After ten iterations, it arrives at a correct and well-explained solution."
   ]
  },
  {
   "cell_type": "markdown",
   "id": "a73ee84b",
   "metadata": {},
   "source": [
    "## Advantages of the Implementation\n",
    "- Iterative Improvement: The algorithm systematically improves the answer through self-critique and refinement.\n",
    "- Balanced Exploration: Using UCT, the search balances exploring new refinements and exploiting known good answers.\n",
    "- Automatic Evaluation: The self-evaluation step allows the model to assess the quality of answers without external input.\n",
    "\n",
    "### Limitations\n",
    "- Computational Resources: Each iteration involves multiple calls to the LLM, which can be time-consuming and resource-intensive.\n",
    "- Model Dependence: The quality of the final answer heavily relies on the LLM's capability to critique and refine effectively.\n",
    "- Parameter Tuning: Parameters like MAX_CHILDREN and the exploration constant need to be tuned for optimal performance."
   ]
  },
  {
   "cell_type": "markdown",
   "id": "b996aae9",
   "metadata": {},
   "source": [
    "## Conclusion\n",
    "The Monte Carlo Tree Self-Refine technique represents a significant step forward in enhancing LLMs' ability to tackle complex reasoning tasks. By integrating MCTS with self-refinement strategies, MCTSr offers a robust framework for improving decision-making and solution quality in AI applications. The practical implementation demonstrates how theoretical concepts can be applied to achieve tangible improvements in mathematical problem-solving.\n",
    "\n",
    "As research continues, we can expect further refinements and broader applications of this innovative approach, potentially extending beyond mathematics to other domains requiring complex reasoning and decision-making.\n",
    "\n",
    "**Note:** The code examples provided use placeholder functions like chat_completion_request, which should be implemented using the appropriate API calls to the language model you're interfacing with. The full code used in this article is available on [Google Colab](https://colab.research.google.com/drive/1tPEphu8GjZJOkzf8RBvH-bWYXELByb1n?usp=sharing) and in the [LLM Tutorial](https://github.com/mattdepaolis/llm-tutorials/blob/main/Monte_Carlo_Tree_Self_Refine.ipynb)."
   ]
  },
  {
   "cell_type": "markdown",
   "id": "8302da95",
   "metadata": {},
   "source": [
    "## References\n",
    "Zhang, D., Huang, X., Zhou, D., Li, Y., & Ouyang, W. (2024). Accessing GPT-4 level Mathematical Olympiad Solutions via Monte Carlo Tree Self-refine with LLaMa-3 8B. arXiv (Cornell University). https://doi.org/10.48550/arxiv.2406.07394"
   ]
  }
 ],
 "metadata": {
  "kernelspec": {
   "display_name": "Python 3 (ipykernel)",
   "language": "python",
   "name": "python3"
  },
  "language_info": {
   "codemirror_mode": {
    "name": "ipython",
    "version": 3
   },
   "file_extension": ".py",
   "mimetype": "text/x-python",
   "name": "python",
   "nbconvert_exporter": "python",
   "pygments_lexer": "ipython3",
   "version": "3.10.14"
  }
 },
 "nbformat": 4,
 "nbformat_minor": 5
}
