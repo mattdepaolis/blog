{
 "cells": [
  {
   "cell_type": "markdown",
   "id": "e28b1273",
   "metadata": {},
   "source": [
    "---\n",
    "aliases:\n",
    "- /ollama/\n",
    "categories:\n",
    "- Post-Training LLM\n",
    "date: '2024-08-31'\n",
    "colab: <a href=\"https://colab.research.google.com/drive/1glOts4otk-ZEdYWx-pyUkxnrLGkVAzcW?usp=sharing\"><img src=\"images/colab.png\" alt=\"Open In Colab\"></a>\n",
    "image: /images/ollama/thumbnail.jpg\n",
    "title: \"From Fine-Tuning to Deployment\"\n",
    "subtitle: \"Harnessing Custom LLMs with Ollama and Quantization\"\n",
    "---"
   ]
  },
  {
   "cell_type": "markdown",
   "id": "01a281f9-ac14-4f2f-900a-80f820519fa4",
   "metadata": {},
   "source": [
    "<center>\n",
    "    <img src=\"images/ollama/thumbnail.jpg\" alt=\"Image\">\n",
    "</center>\n",
    "\n",
    "Imagine unlocking the full potential of large language models (LLMs) right on your local machine, without relying on costly cloud services. This is where Ollama shines by allowing users to harness the power of LLMs on their machines. While Ollama offers a range of ready-to-use models, there are times when a custom model is necessary, whether it's fine-tuned on specific data or designed for a particular task. Efficiently deploying these custom models on local hardware often requires optimization techniques like quantization.\n",
    "In this article, we will explore the concept of quantization and demonstrate how to apply it to a fine-tuned model from Huggingface. We'll then cover how to install Ollama, create a corresponding Modelfile for a custom model, and integrate this custom model into Ollama, proving how easy it is to bring AI capabilities in-house.\n",
    "All the code used in this article is available on Google Colab and in the LLM Tutorial."
   ]
  },
  {
   "cell_type": "markdown",
   "id": "351ec48a",
   "metadata": {},
   "source": [
    "## Ollama\n",
    "Ollama is an open-source platform that empowers users to run large language models (LLMs) locally, bypassing the need for cloud-based services. Designed with accessibility in mind, Ollama simplifies the installation and management of a wide range of pre-trained LLMs and embedding models, enabling easy deployment without requiring extensive technical expertise. The platform provides a local API for seamless application integration and supports frameworks like LangChain. Recently tool-calling functionality has been introduced. This feature allows models to interact with external tools - like APIs, web browsers, and code interpreters - enabling them to perform complex tasks and interact with the outside world more effectively. Thanks to a large open-source community, Ollama continues evolving its capabilities, making it a robust, cost-effective solution for local AI deployment."
   ]
  },
  {
   "cell_type": "markdown",
   "id": "246a055b",
   "metadata": {},
   "source": [
    "## Quantization in Large Language Models\n",
    "**Quantization** is a crucial technique in machine learning that involves reducing the precision of a model's weights and activations, without significantly impacting the model's performance. Traditionally, these models operate using 32-bit floating point (FP32) formats, but quantization allows for the conversion of these weights to lower precision formats such as 16-bit (FP16), 8-bit (INT8), 4-bit, or even 2-bit. The primary goals of quantization are to reduce the model's memory footprint and computational demands, thereby making it possible to deploy the model on resource-constrained hardware. There are two types of quantization techniques: post-training quantization and quantization-aware training.\n",
    "\n",
    "### Types of Quantization\n",
    "**• Post-Training Quantization (PTQ)**: PTQ is a straightforward technique in which the model is quantized after it has been fully trained. This method is quick to implement and does not require retraining the model, making it ideal for scenarios where time or resources are limited. However, it may result in a slight decrease in accuracy since the model was not trained with quantization in mind.\n",
    "**• Quantization-Aware Training (QAT)**: QAT integrates quantization into the training process, allowing the model to learn to compensate for the reduced precision. This approach generally results in better performance compared to PTQ, as the model adapts to the quantized environment during training. However, QAT requires more computational resources during training and is more complex to implement."
   ]
  },
  {
   "cell_type": "markdown",
   "id": "994b41b9",
   "metadata": {},
   "source": [
    "## Quantizing a Custom Model\n",
    "In our example, we will use the GGUF (GPT-Generated Unified Format) quantization format, released by Georgi Gerganov and the llama.cpp team. GGUF employs the post-training quantization technique and supports a range of quantization methods, allowing developers to balance model accuracy and efficiency based on their specific needs. This format is particularly favored by the community for its ability to run efficiently on both CPU and Apple devices, making it an excellent choice for local testing and deployment."
   ]
  },
  {
   "cell_type": "markdown",
   "id": "82a6cfd3",
   "metadata": {},
   "source": [
    "### Installing the llama.cpp library\n",
    "To start quantizing our model, we need to install the llama.cpp library. The library includes utilities to convert models into GGUF format and tools to quantize these models into various bit-widths depending on the hardware constraints."
   ]
  },
  {
   "cell_type": "code",
   "execution_count": null,
   "id": "6134a5ab-85a8-4e84-ae26-127c4fc6d181",
   "metadata": {},
   "outputs": [],
   "source": [
    "!git clone https://github.com/ggerganov/llama.cpp\n",
    "!pip install -r llama.cpp/requirements.txt -q\n",
    "!cd llama.cpp && make -j 8"
   ]
  },
  {
   "cell_type": "markdown",
   "id": "93e72e72-4103-4e16-ab61-b006ffd6e7e7",
   "metadata": {},
   "source": [
    "## Downloading and Preparing the Model\n",
    "Once we have the necessary tools, the next step is to download the model we want to quantize from Huggingface. In this example, we are using the Mistral-v0.3–7B-ORPO model that we fine-tuned in the last article. We download the model, rename it locally, and move it to the ./model folder."
   ]
  },
  {
   "cell_type": "code",
   "execution_count": null,
   "id": "d2c43e3e-24ec-4336-b67f-4478ece7e7c4",
   "metadata": {},
   "outputs": [],
   "source": [
    "!git lfs install\n",
    "!git clone https://huggingface.co/llmat/Mistral-v0.3-7B-ORPO Mistral-v0.3-7B-ORPO\n",
    "!mv Mistral-v0.3-7B-ORPO model/\n"
   ]
  },
  {
   "cell_type": "markdown",
   "id": "912e162d",
   "metadata": {},
   "source": [
    "Once we have our model we need to convert it to the GGUF F16 format."
   ]
  },
  {
   "cell_type": "code",
   "execution_count": null,
   "id": "e612d98f",
   "metadata": {},
   "outputs": [],
   "source": [
    "!python ./llama.cpp/convert_hf_to_gguf.py ./model --outfile ./model/Mistral-v0.3-7B-ORPO-f16.gguf --outtype f16"
   ]
  },
  {
   "cell_type": "markdown",
   "id": "fb3fc1a4",
   "metadata": {},
   "source": [
    "Now, we can choose the method by which we want our model to be quantized.\n",
    "In the context of **llama.cpp**, quantization methods are typically named following a specific convention: **Q#_K_M**\n",
    "Let's break down what each component means:\n",
    "<br><br>\n",
    "**• Q:** Stands for \"Quantization,\" indicating that the model has undergone a process to reduce its numerical precision.\n",
    "<br><br>\n",
    "**• #:** Refers to the number of bits used in the quantization process. For example, 4 in Q4_K_M indicates  that the model has been quantized using 4-bit integers.\n",
    "<br><br>\n",
    "**• K:** Denotes the use of k-means clustering in the quantization process. K-means clustering is a technique used to group similar weights, reducing the variation between them and allowing for more efficient quantization with minimal loss of accuracy.\n",
    "<br><br>**• M:** Indicates the size category of the model after quantization, where:\n",
    "<br><br>**• S** = Small\n",
    "<br><br>**• M** = Medium\n",
    "<br><br>**• L** = Large"
   ]
  },
  {
   "cell_type": "markdown",
   "id": "a345d23f",
   "metadata": {},
   "source": [
    "## Quantization Methods Explained\n",
    "Here's a closer look at the different quantization methods supported by llama.cpp and Ollama, following the Q#_K_M naming convention:\n",
    "<br><br>`Q2_K`: This method uses 2-bit quantization, offering the most significant size reduction but with a considerable loss in accuracy. It's mainly used in highly constrained environments where memory and processing power are extremely limited.\n",
    "<br><br>`Q3_K_S`: A 3-bit quantization method using k-means clustering, optimized for small models. This method provides significant memory savings and is used when accuracy can be somewhat compromised.\n",
    "<br><br>`Q3_K_M`: Similar to Q3_K_S but optimized for medium-sized models. This method offers a balanced trade-off between memory usage and accuracy.\n",
    "<br><br>`Q3_K_L`: This method is tailored for larger models, using 3-bit quantization with k-means clustering to reduce size while maintaining as much accuracy as possible.\n",
    "<br><br>`Q4_0`: A standard 4-bit quantization method that does not use k-means clustering. This is the default method, offering a good balance between size reduction and maintaining model accuracy. It's suitable for general use cases where memory is limited but accuracy is still important.\n",
    "<br><br>`Q4_1`: Similar to Q4_0 but with slight variations in how quantization is applied, potentially offering slightly better accuracy at the cost of a small increase in resource usage.\n",
    "<br><br>`Q4_K_S`: A variation of 4-bit quantization optimized for smaller models. It reduces the model size significantly while preserving reasonable accuracy.\n",
    "<br><br>`Q4_K_M`: This method applies 4-bit quantization with k-means clustering to medium-sized models, offering an excellent balance between size and accuracy. It's one of the most recommended methods for general use.\n",
    "<br><br>`Q5_0`: Uses 5-bit quantization, which offers higher precision than 4-bit methods, resulting in better accuracy. This method is a good choice when you have slightly more memory available and need to maintain higher accuracy.\n",
    "<br><br>`Q5_1`: A refinement of Q5_0, providing even greater accuracy by applying more sophisticated quantization techniques, though at the cost of increased resource requirements.\n",
    "<br><br>`Q5_K_S`: This method uses 5-bit quantization with k-means clustering, optimized for smaller models, providing higher accuracy than 4-bit methods with only a slight increase in resource use.\n",
    "<br><br>`Q5_K_M`: An advanced 5-bit quantization technique optimized for medium-sized models, providing high accuracy with reasonable memory efficiency. This method is often recommended for scenarios where accuracy is critical but resources are still somewhat limited.\n",
    "<br><br>`Q6_K`: This method uses 6-bit quantization, providing a middle ground between 4-bit and 8-bit methods. It's suitable when you need more accuracy than what 4-bit offers but can't afford the higher resource demands of 8-bit quantization.\n",
    "<br><br>`Q8_0`: Uses 8-bit quantization, which is nearly as accurate as the original float16 model. This method is best for scenarios where you need to preserve as much accuracy as possible while still reducing the model size.\n",
    "<br><br>In our example we choose to quantize our model to 4-bit, using the Q4_K_M method."
   ]
  },
  {
   "cell_type": "code",
   "execution_count": null,
   "id": "9e5293f1",
   "metadata": {},
   "outputs": [],
   "source": [
    "!mkdir Mistral-v0.3-7B-ORPO_Q4_K_M\n",
    "!./llama.cpp/llama-quantize ./model/Mistral-v0.3-7B-ORPO-f16.gguf ./Mistral-v0.3-7B-ORPO_Q4_K_M/Mistral-v0.3-7B-ORPO_Q4_K_M.gguf Q4_K_M"
   ]
  },
  {
   "cell_type": "markdown",
   "id": "303148f3",
   "metadata": {},
   "source": [
    "## Push model to hub (Optional)"
   ]
  },
  {
   "cell_type": "code",
   "execution_count": null,
   "id": "d2f491c9",
   "metadata": {},
   "outputs": [],
   "source": [
    "# imports from huggingface\n",
    "from huggingface_hub import create_repo, HfApi\n",
    "import dotenv\n",
    "import os\n",
    "\n",
    "dotenv.load_dotenv()\n",
    "username = \"llmat\"\n",
    "HUGGINGFACE_TOKEN = os.getenv('HUGGINGFACE_TOKEN')\n",
    "MODEL_NAME = \"Mistral-v0.3-7B-ORPO_Q4_K_M\"\n",
    "\n",
    "\n",
    "# Defined in the .env\n",
    "api = HfApi(token=HUGGINGFACE_TOKEN)\n",
    "\n",
    "# Create empty repo\n",
    "create_repo(\n",
    "    repo_id = f\"{username}/{MODEL_NAME}-GGUF\",\n",
    "    repo_type=\"model\",\n",
    "    exist_ok=True,\n",
    ")\n",
    "\n",
    "# Upload gguf files\n",
    "api.upload_folder(\n",
    "    folder_path=MODEL_NAME,\n",
    "    repo_id=f\"{username}/{MODEL_NAME}-GGUF\",\n",
    "    allow_patterns=f\"*.gguf\",\n",
    ")"
   ]
  },
  {
   "cell_type": "markdown",
   "id": "8c15871d-fe55-4285-8e23-864e75174779",
   "metadata": {},
   "source": [
    "## Install Ollama\n",
    "With our model now quantized, the next step is to install and start Ollama.\n",
    "To begin, install Ollama by using this link:\n",
    "\n",
    "**Download link:**  https://ollama.com/download\n",
    "\n",
    "**For Windows Installation:** After downloading the executable file, simply run it, and Ollama will be installed automatically.\n",
    "\n",
    "**For MacOS Installation:** After the download completes on MacOS, unzip the downloaded file. Then, simply drag the Ollama.app folder into your Applications folder.\n",
    "\n",
    "**Linux installation:** Just run below command in your terminal. Ollama will be installed."
   ]
  },
  {
   "cell_type": "code",
   "execution_count": null,
   "id": "d7bfbb60",
   "metadata": {},
   "outputs": [],
   "source": [
    "!curl -fsSL https://ollama.com/install.sh | sh"
   ]
  },
  {
   "cell_type": "markdown",
   "id": "38659f7d",
   "metadata": {},
   "source": [
    "Once the installation is complete, start the Ollama server.\n",
    "If using Google Colab then execute the following commands to start Ollama:"
   ]
  },
  {
   "cell_type": "code",
   "execution_count": null,
   "id": "192eff5c",
   "metadata": {},
   "outputs": [],
   "source": [
    "!pip install colab-xterm #https://pypi.org/project/colab-xterm/\n",
    "%load_ext colabxterm\n",
    "%xterm\n",
    "\n",
    "## A Terminal window pops up\n",
    "## Add command 'ollama serve'"
   ]
  },
  {
   "cell_type": "markdown",
   "id": "0a175b78",
   "metadata": {},
   "source": [
    "If running on a local environment use this command to start the Ollama serve:"
   ]
  },
  {
   "cell_type": "code",
   "execution_count": null,
   "id": "db219d8e",
   "metadata": {},
   "outputs": [],
   "source": [
    "!ollama serve"
   ]
  },
  {
   "cell_type": "markdown",
   "id": "1a3e7df4",
   "metadata": {},
   "source": [
    "Before we can add our quantized model to the Ollama server, Ollama requires us to create a Modelfile."
   ]
  },
  {
   "cell_type": "markdown",
   "id": "4fae8dd2",
   "metadata": {},
   "source": [
    "## Modelfile for Ollama\n",
    "Ollama's Modelfile is a developing syntax designed to act as a blueprint, defining key components and parameters to customize model behavior within the Ollama ecosystem. The Modelfile includes several key instructions:\n",
    "<br><br>**• FROM (Required):** Specifies the base model or file to build from.\n",
    "<br><br>**• PARAMETER:** Sets various operational parameters like temperature, context window size, and stopping conditions, influencing model output and behavior.\n",
    "<br><br>**• TEMPLATE:** Defines the prompt structure, including system messages and user prompts, which guides the model's responses.\n",
    "<br><br>**• SYSTEM:** Sets the system message to dictate the model's behavior.\n",
    "<br><br>**• ADAPTER:** Applies LoRA adapters to the model for further customization.\n",
    "<br><br>**• LICENSE:** Specifies the legal license under which the model is shared.\n",
    "<br><br>**• MESSAGE:** Provides a message history to influence how the model generates responses."
   ]
  },
  {
   "cell_type": "markdown",
   "id": "95c2fc37",
   "metadata": {},
   "source": [
    "## Create Custom Modelfile\n",
    "In our example, we only need to set the path, define the template, and set parameters for the stopping conditions.\n",
    "<br><br>**Path to the Quantized Model:** The Modelfile needs to specify the path to the quantized model stored on our system. This ensures the correct model is loaded for processing.\n",
    "<br><br>**Template for Message Processing:** The template within the Modelfile is based on the chat template used in the base model. It is responsible for processing and formatting messages according to their roles, such as \"user\" or \"assistant.\" This structure guarantees that the model's output adheres to the dialogue format it was fine-tuned for.\n",
    "<br><br>**Stop Parameters:** The stop parameters identify the boundaries of the instructions provided to the model and the responses generated by it. The markers \"[INST]\" and \"[/INST]\" signal the start and end of the user's input, respectively. These delimiters ensure the model recognizes where the user's message begins and ends.\n",
    "<br><br>Below is how we define the path to our quantized model, construct the template content and stopping parameters within the Modelfile for our example:"
   ]
  },
  {
   "cell_type": "code",
   "execution_count": 23,
   "id": "948a2ca9",
   "metadata": {},
   "outputs": [],
   "source": [
    "# Creating the content for the Modelfile\n",
    "template_content = \"\"\"TEMPLATE \"\"\"\n",
    "template_content += '''\"\"\"\n",
    "{{- if .Messages }}\n",
    "    {{- range $index, $_ := .Messages }}\n",
    "        {{- if eq .Role \"user\" }}\n",
    "            [INST] \n",
    "            {{ .Content }}[/INST]\n",
    "        {{- else if eq .Role \"assistant\" }}\n",
    "            {{- if .Content }} {{ .Content }}\n",
    "            {{- end }}</s>\n",
    "        {{- end }}\n",
    "    {{- end }}\n",
    "{{- else }}\n",
    "    [INST] \n",
    "    {{ .Prompt }}[/INST]\n",
    "{{- end }} \n",
    "{{ .Response }}\n",
    "{{- if .Response }}</s>\n",
    "{{- end }}\n",
    "\"\"\"'''\n",
    "\n",
    "# Write the rest of the parameters to the file\n",
    "with open('./Mistral-v0.3-7B-ORPO_Q4_K_M/modelfile', 'w') as file:\n",
    "    file.write('FROM ./Mistral-v0.3-7B-ORPO_Q4_K_M.gguf\\n\\n')\n",
    "    file.write('PARAMETER stop \"[INST]\"\\n')\n",
    "    file.write('PARAMETER stop \"[/INST]\"\\n\\n')\n",
    "    file.write(template_content)"
   ]
  },
  {
   "cell_type": "markdown",
   "id": "2f3c3e4a",
   "metadata": {},
   "source": [
    "Let's break down the template content:\n",
    "<br><br>**• Processing Messages:** The template processes the list of messages (.Messages) by identifying the role of each sender (.Role), effectively structuring the conversation.\n",
    "<br><br>**• Formatting User Messages:** Messages from the \"user\" are enclosed within [INST] tags. If the message is the user's only input and a system message exists, it is included at the beginning.\n",
    "<br><br>**• Formatting Assistant Messages:** Messages from the \"assistant\" are output directly without additional tags, with a </s> tag appended to signify the end of the response.\n",
    "<br><br>**• Handling Edge Cases:** If no messages are present, the template provides a fallback instruction within [INST] tags to ensure that the model still generates meaningful content.\n",
    "<br><br>**• Final Response Handling:** The final response is appended and closed with a </s> tag, ensuring the conversation is properly terminated.\n",
    "After creating the Modelfile, you can display the file content to verify:"
   ]
  },
  {
   "cell_type": "code",
   "execution_count": 24,
   "id": "a6391a51",
   "metadata": {},
   "outputs": [],
   "source": [
    "# Display the file content\n",
    "with open('./Mistral-v0.3-7B-ORPO_Q4_K_M/modelfile', 'r') as file:\n",
    "    content = file.read()"
   ]
  },
  {
   "cell_type": "markdown",
   "id": "8248101e",
   "metadata": {},
   "source": [
    "With the Modelfile ready, we can now create and add our quantized model to Ollama. This command registers the quantized model with Ollama using the configurations specified in the Modelfile:"
   ]
  },
  {
   "cell_type": "code",
   "execution_count": null,
   "id": "36cf38c6",
   "metadata": {},
   "outputs": [],
   "source": [
    "!ollama create mistral-v0.3-7B-orpo_Q4_K_M -f ./Mistral-v0.3-7B-ORPO_Q4_K_M/modelfile"
   ]
  },
  {
   "cell_type": "markdown",
   "id": "f8d8e9b5",
   "metadata": {},
   "source": [
    "We can now check if our quantized model is now listed and ready to use."
   ]
  },
  {
   "cell_type": "code",
   "execution_count": null,
   "id": "2d9fde5a",
   "metadata": {},
   "outputs": [],
   "source": [
    "!ollama list"
   ]
  },
  {
   "cell_type": "markdown",
   "id": "f5516e7c",
   "metadata": {},
   "source": [
    "Next, we install the necessary library to test the model using the LangChain framework:"
   ]
  },
  {
   "cell_type": "code",
   "execution_count": null,
   "id": "15809bc3",
   "metadata": {},
   "outputs": [],
   "source": [
    "!pip install langchain-community langchain-core"
   ]
  },
  {
   "cell_type": "markdown",
   "id": "bce71c61",
   "metadata": {},
   "source": [
    "Now we run and test the model on Ollama:"
   ]
  },
  {
   "cell_type": "code",
   "execution_count": 31,
   "id": "995c66ed",
   "metadata": {},
   "outputs": [
    {
     "name": "stdout",
     "output_type": "stream",
     "text": [
      "One plus one equals two.\n"
     ]
    }
   ],
   "source": [
    "from langchain.llms import Ollama\n",
    "\n",
    "ollama = Ollama(base_url=\"http://localhost:11434\", model=\"mistral-v0.3-7B-orpo_Q4_K_M\")\n",
    "\n",
    "TEXT_PROMPT = \"What is one plus one?\"\n",
    "\n",
    "print(ollama(TEXT_PROMPT))"
   ]
  },
  {
   "cell_type": "markdown",
   "id": "f42e2c5d",
   "metadata": {},
   "source": [
    "The model should return a correct response."
   ]
  },
  {
   "cell_type": "markdown",
   "id": "7075bbf7",
   "metadata": {},
   "source": [
    "## Conclusion\n",
    "This article has walked you through the process of quantizing a custom model, integrating it with Ollama, and testing it locally. By leveraging the llama.cpp framework we quantized our custom model in the Q4_K_M format and pushed it to Hugging Face Hub. We then discussed how to create the corresponding Modelfile and how to integrate our model into the Ollama framework.\n",
    "<br><br>Quantization, offers significant benefits, including reduced memory footprint, faster inference times, and lower power consumption. These advantages make it feasible to deploy sophisticated AI models across a variety of hardware configurations, from high-performance servers to low-power edge devices, broadening the scope of where and how AI can be applied. I hope you enjoyed reading this article and learned something new.\n",
    "You can find the quantized model from this example on Huggingface."
   ]
  },
  {
   "cell_type": "markdown",
   "id": "766d84b6",
   "metadata": {},
   "source": [
    "## References\n",
    "Brev.dev. (2024). Convert a fine-tuned model to GGUF format and run on Ollama. https://brev.dev/blog/convert-to-llamacpp\n",
    "<br><br>IBM. (2024). GGUF versus GGML. IBM. https://www.ibm.com/think/topics/gguf-versus-ggml\n",
    "<br><br>Ollama. (2024). Retrieved from https://ollama.com/blog\n",
    "<br><br>PatrickPT's Blog. (2024). LLM Quantization in a nutshell. https://patrickpt.github.io/posts/quantllm/"
   ]
  }
 ],
 "metadata": {
  "kernelspec": {
   "display_name": "Python 3 (ipykernel)",
   "language": "python",
   "name": "python3"
  },
  "language_info": {
   "codemirror_mode": {
    "name": "ipython",
    "version": 3
   },
   "file_extension": ".py",
   "mimetype": "text/x-python",
   "name": "python",
   "nbconvert_exporter": "python",
   "pygments_lexer": "ipython3",
   "version": "3.10.14"
  }
 },
 "nbformat": 4,
 "nbformat_minor": 5
}
