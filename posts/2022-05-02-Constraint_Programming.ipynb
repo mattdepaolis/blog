{
 "cells": [
  {
   "cell_type": "raw",
   "metadata": {},
   "source": [
    "---\n",
    "aliases:\n",
    "- /constraintprogramming/\n",
    "categories:\n",
    "- linear programming\n",
    "colab: <a href=\"https://colab.research.google.com/drive/1huTlPTaahdEEO29KKdlW9ic5zAwB3D58?usp=sharing\"><img src=\"images/colab.png\" alt=\"Open In Colab\"></a>\n",
    "date: '2022-05-02'\n",
    "image: /images/cp/thumbnail.jpg\n",
    "title: Introduction to Constraint Programming in Python\n",
    "subtitle: The Programming Paradigm to Find One Solution Among 8,080,104 Candidates\n",
    "---\n",
    "\n"
   ]
  },
  {
   "attachments": {},
   "cell_type": "markdown",
   "metadata": {
    "id": "aoY3E-Qv8nN0"
   },
   "source": [
    "<center><img src=\"/images/cp/thumbnail.jpg\"></center>\n",
    "\n",
    "Constraint Programming is a technique to **find every solution** that respects a set of predefined constraints.\n",
    "\n",
    "It is an invaluable tool for data scientists to solve a huge variety of problems, such as scheduling, timetabling, sequencing, etc. In this article, we'll see how to use CP in two different ways:\n",
    "\n",
    "1. **Satisfiability**: the goal is to find one or multiple feasible solutions (*i.e.*, solutions that respect our constraints) by narrowing down a large set of potential solutions;\n",
    "2. **Optimization**: the goal is to find the best feasible solution according to an objective function, just like Linear Programming (LP).\n",
    "\n",
    "We'll use CP-SAT from [Google OR-Tools](https://developers.google.com/optimization), an excellent free and open source CP solver. Note that it is **different** from MPSolver, which is dedicated to Linear and Mixed Integer Programming. The difference between CP and LP is quite confusing, we'll touch on this topic at the end of the article.\n",
    "\n",
    "You can run the code with the following [Google Colab notebook](https://colab.research.google.com/drive/1huTlPTaahdEEO29KKdlW9ic5zAwB3D58?usp=sharing)."
   ]
  },
  {
   "cell_type": "code",
   "execution_count": 1,
   "metadata": {
    "id": "AByfmdHHt2U_"
   },
   "outputs": [],
   "source": [
    "!python -m pip install --upgrade --user -q ortools"
   ]
  },
  {
   "attachments": {},
   "cell_type": "markdown",
   "metadata": {
    "id": "54Wda8otRHvx"
   },
   "source": [
    "## 🪖 I. Satisfiability with the 3 scouts problem\n",
    "\n",
    "<center><img src=\"/images/cp/scouts.png\" width=800 style=\"margin-bottom:0px; margin-top:0px;\"></center>\n",
    "\n",
    "In the [previous article](https://towardsdatascience.com/integer-programming-vs-linear-programming-in-python-f1be5bb4e60e), we created an army to defeat our opponent. But there was one small problem: we had to guess how powerful his army was.\n",
    "\n",
    "This time, let's send scouts to know the **exact number**. Our 3 scouts observed the enemy camp, and this is what they tell us:\n",
    "\n",
    "* **Scout 1**: \"*the number of soldiers is a multiple of 13*\";\n",
    "* **Scout 2**: \"*the number of soldiers is a multiple of 19*\";\n",
    "* **Scout 3**: \"*the number of soldiers is a multiple of 37*\";\n",
    "* They all agree that the number of soldiers **doesn't exceed 10,000**.\n",
    "\n",
    "Our scouts have a personal way of counting soldiers, but we can **combine** these three observations to make a model.\n",
    "\n",
    "Let's call the number of soldiers $army$. We can translate our problem into the following congruence system:\n",
    "\n",
    "$$\n",
    "    army \\equiv 0 \\mod 13 \\\\\n",
    "    army \\equiv 0 \\mod 19 \\\\\n",
    "    army \\equiv 0 \\mod 37\n",
    "$$\n",
    "\n",
    "If you're not familiar with this notation, this is what it means in **programming terms**:\n",
    "\n",
    "$$\n",
    "    army\\ \\% \\ 13 = 0 \\\\\n",
    "    army\\ \\% \\ 19 = 0 \\\\\n",
    "    army\\ \\% \\ 37 = 0\n",
    "$$\n",
    "\n",
    "Let's implement it with OR-Tools. The first thing we need to do is to import and create the **CP-SAT model and solver**."
   ]
  },
  {
   "cell_type": "code",
   "execution_count": 2,
   "metadata": {
    "id": "7xu08_V96fZX"
   },
   "outputs": [],
   "source": [
    "from ortools.sat.python import cp_model\n",
    "\n",
    "# Instantiate model and solver\n",
    "model = cp_model.CpModel()\n",
    "solver = cp_model.CpSolver()"
   ]
  },
  {
   "attachments": {},
   "cell_type": "markdown",
   "metadata": {
    "id": "kVsH4ui56g5K"
   },
   "source": [
    "The **modeling process** is very similar to what we did in Linear Programming. \n",
    "\n",
    "The first step to create our CP model is to declare the **variables**. In this example, we only have one: $army$, the number of soldiers.\n",
    "\n",
    "We have to give lower and upper bounds. The **lower bound** is 1 since we know there's an army, and the **upper bound** is 10,000 according to the scouts:\n",
    "\n",
    "$$1 \\leq army \\leq 10\\ 000$$\n",
    "\n",
    "In OR-Tools, we use the `NewIntVar` method to create this variable."
   ]
  },
  {
   "cell_type": "code",
   "execution_count": 3,
   "metadata": {
    "id": "hM3aXH_t61X5"
   },
   "outputs": [],
   "source": [
    "# 1. Variable\n",
    "army = model.NewIntVar(1, 10000, 'army')"
   ]
  },
  {
   "attachments": {},
   "cell_type": "markdown",
   "metadata": {
    "id": "BHVdI2RA65L1"
   },
   "source": [
    "The second step is to declare the **constraints**.\n",
    "\n",
    "We identified three constraints in this example. Modulo is a special operator, so we need a specific function to handle it with CP-SAT: `AddModuloEquality`. You can find a reference guide at [this address](https://developers.google.com/optimization/reference/python/sat/python/cp_model) if you need other methods."
   ]
  },
  {
   "cell_type": "code",
   "execution_count": null,
   "metadata": {
    "id": "kalRx6YU7jSw"
   },
   "outputs": [],
   "source": [
    "# 2. Constraints\n",
    "# variable % mod = target → (target, variable, mod)\n",
    "model.AddModuloEquality(0, army, 13)\n",
    "model.AddModuloEquality(0, army, 19)\n",
    "model.AddModuloEquality(0, army, 37)"
   ]
  },
  {
   "attachments": {},
   "cell_type": "markdown",
   "metadata": {
    "id": "_nngNKjC7mqK"
   },
   "source": [
    "Unlike Linear Programming, we **don't have to define an objective function** here.\n",
    "\n",
    "The reason is simple: there is nothing to optimize! We just want to find a **feasible solution** that satisfies our constraints, but there is no \"good\" or \"bad\" answers. This is a **key feature** of Constraint Programming.\n",
    "\n",
    "Our model is **complete**, we can now ask OR-Tools to solve it."
   ]
  },
  {
   "cell_type": "code",
   "execution_count": 5,
   "metadata": {
    "colab": {
     "base_uri": "https://localhost:8080/"
    },
    "id": "qs9RcEAI8D2o",
    "outputId": "a2dada7e-cacf-4fcf-e7fc-c856b7adddd4"
   },
   "outputs": [
    {
     "name": "stdout",
     "output_type": "stream",
     "text": [
      "================= Solution =================\n",
      "Solved in 0.01 milliseconds\n",
      "\n",
      "🪖 Army = 9139\n",
      "\n",
      "Check solution:\n",
      " - Constraint 1: 9139 % 13 = 0\n",
      " - Constraint 2: 9139 % 19 = 0\n",
      " - Constraint 3: 9139 % 37 = 0\n"
     ]
    }
   ],
   "source": [
    "# Find the variable that satisfies these constraints\n",
    "status = solver.Solve(model)\n",
    "\n",
    "# If a solution has been found, print results\n",
    "if status == cp_model.OPTIMAL or status == cp_model.FEASIBLE:\n",
    "    print('================= Solution =================')\n",
    "    print(f'Solved in {solver.WallTime():.2f} milliseconds')\n",
    "    print()\n",
    "    print(f'🪖 Army = {solver.Value(army)}')\n",
    "    print()\n",
    "    print('Check solution:')\n",
    "    print(f' - Constraint 1: {solver.Value(army)} % 13 = {solver.Value(army) % 13}')\n",
    "    print(f' - Constraint 2: {solver.Value(army)} % 19 = {solver.Value(army) % 19}')\n",
    "    print(f' - Constraint 3: {solver.Value(army)} % 37 = {solver.Value(army) % 37}')\n",
    "\n",
    "else:\n",
    "    print('The solver could not find a solution.')"
   ]
  },
  {
   "attachments": {},
   "cell_type": "markdown",
   "metadata": {
    "id": "cmOnS3L08Fnc"
   },
   "source": [
    "We obtained our solution in less than a millisecond: there are **9,139 soldiers** in the enemy army.\n",
    "\n",
    "We limited the search space with an upper bound of 10,000, which gave us a **unique solution**. But is it still the case if we push this limit?\n",
    "\n",
    "Another perk of CP is the ability to **find every possible solution** to a problem. This might take a long time when the search space is large because the solver has to brute force the entire space (instead of reducing it with heuristics). Let's explore this feature by printing every possible solution with a new upper bound of **100,000**.\n",
    "\n",
    "With OR-Tools, we ask the solver to look for every possible solution thanks to the `enumerate_all_solutions` parameter. We then assign it a **callback** class that prints every solution the solver finds."
   ]
  },
  {
   "cell_type": "code",
   "execution_count": 6,
   "metadata": {
    "colab": {
     "base_uri": "https://localhost:8080/"
    },
    "id": "M5jMHAwCsUfK",
    "outputId": "00914085-835b-4a24-8f87-3f35481efcc7"
   },
   "outputs": [
    {
     "name": "stdout",
     "output_type": "stream",
     "text": [
      "9139\n",
      "18278\n",
      "27417\n",
      "36556\n",
      "45695\n",
      "54834\n",
      "63973\n",
      "73112\n",
      "82251\n",
      "91390\n"
     ]
    }
   ],
   "source": [
    "model = cp_model.CpModel()\n",
    "solver = cp_model.CpSolver()\n",
    "\n",
    "# 1. Variable\n",
    "army = model.NewIntVar(1, 100000, 'army')\n",
    "\n",
    "# 2. Constraints\n",
    "model.AddModuloEquality(0, army, 13)\n",
    "model.AddModuloEquality(0, army, 19)\n",
    "model.AddModuloEquality(0, army, 37)\n",
    "\n",
    "\n",
    "class PrintSolutions(cp_model.CpSolverSolutionCallback):\n",
    "    \"\"\"Callback to print every solution.\"\"\"\n",
    "\n",
    "    def __init__(self, variable):\n",
    "        cp_model.CpSolverSolutionCallback.__init__(self)\n",
    "        self.__variable = variable\n",
    "\n",
    "    def on_solution_callback(self):\n",
    "        print(self.Value(self.__variable))\n",
    "\n",
    "# Solve with callback\n",
    "solution_printer = PrintSolutions(army)\n",
    "solver.parameters.enumerate_all_solutions = True\n",
    "status = solver.Solve(model, solution_printer)"
   ]
  },
  {
   "attachments": {},
   "cell_type": "markdown",
   "metadata": {
    "id": "0Vor76qhwmJN"
   },
   "source": [
    "We found **10 solutions**! This was to be expected since we increased the upper bound tenfold: these solutions all are **multiples** of 9,139.\n",
    "\n",
    "As you can see, this example has nothing to do with optimization: it's a pure **satisfiability problem**. On another note, this congruence system can be solved manually with the [Chinese remainder theorem](https://en.wikipedia.org/wiki/Chinese_remainder_theorem). But CP is not limited to that...\n",
    "\n",
    "## 🍻 II. Optimization and beer\n",
    "\n",
    "<center><img src=\"/images/cp/cart.png\" width=400></center>\n",
    "\n",
    "Let's see another problem: our army will face the enemy in a few days. In the meantime, the quartermaster has to **prepare the rations** that will be used during the campaign.\n",
    "\n",
    "The space in the supply wagons is **limited** and some rations are more **popular** than others. There are three possible rations:\n",
    "\n",
    "* 🥖 **Bread**: it takes only 1 space but soldiers don't like it that much with a popularity of 3;\n",
    "* 🥩 **Meat**: it takes 3 spaces and has a popularity of 10;\n",
    "* 🍺 **Beer**: it takes 7 spaces but soldiers love it with a popularity of 26.\n",
    "\n",
    "<center><img src=\"/images/cp/table.png\" width=800></center>\n",
    "\n",
    "The supply wagons have a capacity of **19 spaces**. How to select the best rations to **maximize** the popularity?\n",
    "\n",
    "This is an **optimization** problem we've already seen: actually, it is a variant of the famous [knapsack problem](https://en.wikipedia.org/wiki/Knapsack_problem). We could reuse the code from the previous article and just change the input parameters.\n",
    "\n",
    "This time, we'll solve it using Constraint Programming. This paradigm is not limited to finding feasible solutions. It can also perform optimization using [different algorithms](https://en.wikipedia.org/wiki/Constrained_optimization) to handle this overhead.\n",
    "\n",
    "Let's create a model of the problem. First of all, we have to declare three variables: 🥖**bread**, 🥩**meat**, and 🍺**beer**. It's possible to have 0 of them, but their number cannot exceed the maximal capacity.\n",
    "\n",
    "$$0 \\leq bread \\leq capacity \\\\\n",
    "0 \\leq meat \\leq capacity \\\\\n",
    "0 \\leq beer \\leq capacity$$"
   ]
  },
  {
   "cell_type": "code",
   "execution_count": 7,
   "metadata": {
    "id": "dQInBOxgncgR"
   },
   "outputs": [],
   "source": [
    "# Instantiate model and solver\n",
    "model = cp_model.CpModel()\n",
    "solver = cp_model.CpSolver()\n",
    "\n",
    "# 1. Variables\n",
    "capacity = 19\n",
    "bread = model.NewIntVar(0, capacity, 'bread')\n",
    "meat  = model.NewIntVar(0, capacity, 'meat')\n",
    "beer  = model.NewIntVar(0, capacity, 'beer')"
   ]
  },
  {
   "attachments": {},
   "cell_type": "markdown",
   "metadata": {
    "id": "bcAhFklznjNd"
   },
   "source": [
    "This time, we only have one constraint: the space occupied by the bread, the meat, and the beer **cannot exceed the wagons' capacity** (19).\n",
    "\n",
    "$$1 \\times bread + 3 \\times meat + 7 \\times beer \\leq 19$$"
   ]
  },
  {
   "cell_type": "code",
   "execution_count": null,
   "metadata": {
    "id": "phYvrrOUndDR"
   },
   "outputs": [],
   "source": [
    "# 2. Constraints\n",
    "model.Add(1 * bread\n",
    "        + 3 * meat \n",
    "        + 7 * beer <= capacity)"
   ]
  },
  {
   "attachments": {},
   "cell_type": "markdown",
   "metadata": {
    "id": "IpC3XXjvnlFl"
   },
   "source": [
    "We want to **maximize the total popularity** of the rations that are selected: \n",
    "\n",
    "$$max\\ 3 \\times bread + 10 \\times meat + 26 \\times beer$$"
   ]
  },
  {
   "cell_type": "code",
   "execution_count": 9,
   "metadata": {
    "id": "Bh_mfcKVnebo"
   },
   "outputs": [],
   "source": [
    "# 3. Objective\n",
    "model.Maximize(3  * bread\n",
    "             + 10 * meat\n",
    "             + 26 * beer)"
   ]
  },
  {
   "attachments": {},
   "cell_type": "markdown",
   "metadata": {
    "id": "nlnOPbxyn-iw"
   },
   "source": [
    "The model is complete, CP-SAT can **solve the problem**!"
   ]
  },
  {
   "cell_type": "code",
   "execution_count": 11,
   "metadata": {
    "colab": {
     "base_uri": "https://localhost:8080/"
    },
    "id": "J31zUYydnfyZ",
    "outputId": "f911d90a-1032-4e8d-b6b5-a371265d475c"
   },
   "outputs": [
    {
     "name": "stdout",
     "output_type": "stream",
     "text": [
      "================= Solution =================\n",
      "Solved in 0.01 milliseconds\n",
      "\n",
      "Optimal value = 68 popularity\n",
      "Food:\n",
      " - 🥖Bread = 2\n",
      " - 🥩Meat  = 1\n",
      " - 🍺Beer  = 2\n"
     ]
    }
   ],
   "source": [
    "# Solve problem\n",
    "status = solver.Solve(model)\n",
    "\n",
    "# If an optimal solution has been found, print results\n",
    "if status == cp_model.OPTIMAL:\n",
    "    print('================= Solution =================')\n",
    "    print(f'Solved in {solver.WallTime():.2f} milliseconds')\n",
    "    print()\n",
    "    print(f'Optimal value = {3*solver.Value(bread)+10*solver.Value(meat)+26*solver.Value(beer)} popularity')\n",
    "    print('Food:')\n",
    "    print(f' - 🥖Bread = {solver.Value(bread)}')\n",
    "    print(f' - 🥩Meat  = {solver.Value(meat)}')\n",
    "    print(f' - 🍺Beer  = {solver.Value(beer)}')\n",
    "else:\n",
    "    print('The solver could not find an optimal solution.')"
   ]
  },
  {
   "attachments": {},
   "cell_type": "markdown",
   "metadata": {
    "id": "XzgmGfJQoiGi"
   },
   "source": [
    "We obtained the **highest popularity** (68) possible with a capacity of 19.\n",
    "\n",
    "Is the constraint respected? Let's quickly check it: 1×2🥖+3×1🥩+7×2🍺 = 19, which is indeed ≤ 19.\n",
    "\n",
    "Okay, I'd like to ask another question: **how many solutions** to this problem are there? Once again, we can answer it with a specific callback to count them."
   ]
  },
  {
   "cell_type": "code",
   "execution_count": 12,
   "metadata": {
    "colab": {
     "base_uri": "https://localhost:8080/"
    },
    "id": "cpP_PS5vZ_O_",
    "outputId": "5641b18a-1086-4e0f-ced3-3fca045a5737"
   },
   "outputs": [
    {
     "name": "stdout",
     "output_type": "stream",
     "text": [
      "121\n"
     ]
    }
   ],
   "source": [
    "class CountSolutions(cp_model.CpSolverSolutionCallback):\n",
    "    \"\"\"Count the number of solutions.\"\"\"\n",
    "\n",
    "    def __init__(self):\n",
    "        cp_model.CpSolverSolutionCallback.__init__(self)\n",
    "        self.__solution_count = 0\n",
    "\n",
    "    def on_solution_callback(self):\n",
    "        self.__solution_count += 1\n",
    "\n",
    "    def solution_count(self):\n",
    "        return self.__solution_count\n",
    "\n",
    "solution_printer = CountSolutions()\n",
    "\n",
    "# Instantiate model and solver\n",
    "model = cp_model.CpModel()\n",
    "solver = cp_model.CpSolver()\n",
    "\n",
    "# 1. Variables\n",
    "capacity = 19\n",
    "\n",
    "bread = model.NewIntVar(0, capacity, 'Bread')\n",
    "meat  = model.NewIntVar(0, capacity, 'Meat')\n",
    "beer  = model.NewIntVar(0, capacity, 'Beer')\n",
    "\n",
    "# 2. Constraints\n",
    "model.Add(1 * bread\n",
    "        + 3 * meat \n",
    "        + 7 * beer <= capacity)\n",
    "\n",
    "# Print results\n",
    "solver.parameters.enumerate_all_solutions = True\n",
    "status = solver.Solve(model, solution_printer)\n",
    "print(solution_printer.solution_count())"
   ]
  },
  {
   "attachments": {},
   "cell_type": "markdown",
   "metadata": {
    "id": "6cva8hCW2bQd"
   },
   "source": [
    "We found **121 solutions** with a capacity of 19. But this number quickly increases: with a capacity of 1000, there are **8,080,104** possible solutions! And yet, CP-SAT finds the optimal solution in less than a second. How is it possible?\n",
    "\n",
    "CP solvers do not brute force the problem with an exhaustive search, but combine heuristics and combinatorial search instead. More specifically, the three most popular techniques for constraint satisfaction problems are [**backtracking**](https://en.wikipedia.org/wiki/Backtracking), [**constraint propagation**](https://en.wikipedia.org/wiki/Local_consistency), and [**local search**](https://en.wikipedia.org/wiki/Local_search_(optimization)).\n",
    "\n",
    "CP-SAT is quite particular since it combines CP and [**SAT**](https://en.wikipedia.org/wiki/Boolean_satisfiability_problem): it is part of a broader trend of merging CP, LP, SAT, and metaheuristics.\n",
    "\n",
    "We said that the previous problem could be solved with Linear Programming, so let's compare the code of both solutions:\n",
    "\n",
    "<center><img src=\"/images/cp/code.png\"></center>\n",
    "\n",
    "As you can see, the syntax is quite similar but it's not the same: model/solver vs. solver, `NewIntVar` instead of `IntVar`, etc. There's a bit of translation to do, but it's easily manageable.\n",
    "\n",
    "These two techniques are **incredibly close to each other**: they both handle variables with constraints and perform optimization using math and heuristics. However, CP is limited to discrete parameters, while LP handles continuous ones. On the other hand, you can implement specialized constraints like [\"all different\"](https://www.ibm.com/docs/en/icos/12.9.0?topic=variables-all-different-constraint) in CP, but not in LP. Here is a summary of the main differences between these two technologies:\n",
    "\n",
    "<center><img src=\"/images/cp/comparison.png\" width=\"800\"></center>\n",
    "\n",
    "If you want to know more about this topic, I would recommend [this article](https://pubsonline.informs.org/doi/abs/10.1287/inte.31.6.29.9647) by Irvin J. Lustig and Jean-François Puget. CPLEX's documentation also details the differences [at this address](http://ibmdecisionoptimization.github.io/docplex-doc/mp_vs_cp.html), in terms of modeling and optimization.\n",
    "\n",
    "## Conclusion\n",
    "\n",
    "<center><img src=\"/images/cp/infographic.png\" width=\"600\"></center>\n",
    "\n",
    "Constraint Programming is another incredible technique in the **mathematical optimization** toolbox. It is a radically different approach compared to traditional, declarative programming. In this article,\n",
    "\n",
    "* We saw **two applications** of CP with satisfiability and optimization;\n",
    "* We implemented **CP models** in OR-Tools and played with the callback function;\n",
    "* We highlighted the **differences** between CP and LP.\n",
    "\n",
    "We limited ourselves to simple problems in this introduction, but CP has amazing applications in complex scheduling and routing problems. This is a topic I'd love to address in a future article.\n",
    "\n",
    "If you're interested to know more about it, feel free to follow me on **Twitter** [@maximelabonne](https://twitter.com/maximelabonne). Thanks for your attention!\n",
    "\n",
    "## 🥇 Linear Programming Course\n",
    "\n",
    "<a href=\"https://github.com/mlabonne/Linear-Programming-Course\" class=\"related\">🔎 Course overview</a>\n",
    "\n",
    "<a href=\"https://mlabonne.github.io/blog/linearoptimization/\" class=\"related\">📝 Chapter 1: Introduction to Linear Programming</a>\n",
    "\n",
    "<a href=\"https://mlabonne.github.io/blog/integerprogramming/\" class=\"related\">📝 Chapter 2: Integer vs. Linear Programming</a>\n",
    "\n",
    "<a href=\"https://mlabonne.github.io/blog/constraintprogramming/\" class=\"related\">📝 Chapter 3: Constraint Programming</a>\n",
    "\n",
    "<a href=\"https://mlabonne.github.io/blog/nonlinearprogramming/\" class=\"related\">📝 Chapter 4: Nonlinear Programming for Marketing Budget Allocation</a>"
   ]
  }
 ],
 "metadata": {
  "colab": {
   "collapsed_sections": [],
   "name": "2022-05-02-Constraint_Programming.ipynb",
   "provenance": []
  },
  "interpreter": {
   "hash": "c595faed949757ca91e59d08c5ca388682a4cd607c6299ee984f92d1cfbd500d"
  },
  "kernelspec": {
   "display_name": "Python 3.8.12 ('blog')",
   "language": "python",
   "name": "python3"
  },
  "language_info": {
   "name": "python",
   "version": "3.8.12"
  }
 },
 "nbformat": 4,
 "nbformat_minor": 0
}
