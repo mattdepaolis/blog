{
 "cells": [
  {
   "cell_type": "raw",
   "metadata": {},
   "source": [
    "---\n",
    "aliases:\n",
    "- /integerprogramming/\n",
    "categories:\n",
    "- linear programming\n",
    "colab: <a href=\"https://colab.research.google.com/drive/1aIKnXPEiXFo1M3U0EM6arE2teD9KkJdF?usp=sharing\"><img src=\"images/colab.png\" alt=\"Open In Colab\"></a>\n",
    "date: '2022-03-05'\n",
    "image: /images/integerprogramming/thumbnail.jpg\n",
    "title: Integer vs. Linear Programming in Python\n",
    "subtitle: Mixed Integer Programming for optimization with Google OR-Tools\n",
    "---\n",
    "\n"
   ]
  },
  {
   "attachments": {},
   "cell_type": "markdown",
   "metadata": {
    "id": "2ywEZ_RkknQC"
   },
   "source": [
    "<center><img src=\"/images/integerprogramming/thumbnail.jpg\"></center>\n",
    "\n",
    "Why is **linear programming** called that way?\n",
    "\n",
    "Both terms are confusing:\n",
    "\n",
    "* **Linear** implies that **nonlinear** programming exists;\n",
    "* **Programming** actually means \"**planning**\" in this context.\n",
    "\n",
    "In summary, it has nothing to do with code: linear or not. It's about **optimizing** variables with various constraints.\n",
    "\n",
    "In this article, we're gonna talk about another type of optimization: **integer programming**. We'll see why a good understanding of the problem we face is necessary to choose the right solver. Finally, we will write a model that can take on a bigger challenge and actually solve a whole class of optimization problems.\n",
    "\n",
    "You can run the code from this tutorial with the following [**Google Colab notebook**](https://colab.research.google.com/drive/1aIKnXPEiXFo1M3U0EM6arE2teD9KkJdF?usp=sharing).\n",
    "\n",
    "<center><img src=\"/images/integerprogramming/units.png\"></center>\n",
    "\n",
    "## 📊 I. Optimization problem types\n",
    "\n",
    "In the [introduction to linear programming](https://mlabonne.github.io/blog/linearoptimization/), we **optimized an army composition**. Here was the result:"
   ]
  },
  {
   "cell_type": "code",
   "execution_count": null,
   "metadata": {
    "colab": {
     "base_uri": "https://localhost:8080/"
    },
    "id": "ddA-aNJMY-V6",
    "outputId": "9192b161-8737-430c-b548-12bb4bc18a0a"
   },
   "outputs": [
    {
     "name": "stdout",
     "output_type": "stream",
     "text": [
      "================= Solution =================\n",
      "Solved in 87.00 milliseconds in 2 iterations\n",
      "\n",
      "Optimal power = 1800.0 💪power\n",
      "Army:\n",
      " - 🗡️Swordsmen = 6.0000000000000036\n",
      " - 🏹Bowmen = 0.0\n",
      " - 🐎Horsemen = 5.999999999999999\n"
     ]
    }
   ],
   "source": [
    "#| echo: false\n",
    "# Solve problem\n",
    "status = solver.Solve()\n",
    "\n",
    "# If an optimal solution has been found, print results\n",
    "if status == pywraplp.Solver.OPTIMAL:\n",
    "  print('================= Solution =================')\n",
    "  print(f'Solved in {solver.wall_time():.2f} milliseconds in {solver.iterations()} iterations')\n",
    "  print()\n",
    "  print(f'Optimal power = {solver.Objective().Value()} 💪power')\n",
    "  print('Army:')\n",
    "  print(f' - 🗡️Swordsmen = {swordsmen.solution_value()}')\n",
    "  print(f' - 🏹Bowmen = {bowmen.solution_value()}')\n",
    "  print(f' - 🐎Horsemen = {horsemen.solution_value()}')\n",
    "else:\n",
    "  print('The solver could not find an optimal solution.')"
   ]
  },
  {
   "attachments": {},
   "cell_type": "markdown",
   "metadata": {
    "id": "eGgO_cnFk9ce"
   },
   "source": [
    "How can we have 5.999… horsemen? We specified that our variables **should be integers** with `VarInt`. What was wrong with our code?\n",
    "\n",
    "The problem is not the model but the choice of the solver.\n",
    "\n",
    "GLOP is a [pure linear programming solver](https://en.wikipedia.org/wiki/GLOP). This means that it cannot understand the concept of integers. It is limited to continuous parameters with a linear relationship.\n",
    "\n",
    "This is the difference between **linear** programming (LP) and **integer linear** programming (ILP). In summary, LP solvers can only use real numbers and not integers as variables. So why did we declare our variables as integers if it doesn't take them into account?\n",
    "\n",
    "GLOP cannot solve ILP problems, but other solvers can. Actually, a lot of them are **mixed integer linear programming** (MILP, commonly called MIP) solvers. This means that they can consider both **continuous** (real numbers) and **discrete** (integers) variables. A particular case of discrete values is Boolean variables to represent decisions with 0–1 values.\n",
    "\n",
    "Other solvers like SCIP or CBC can solve both **MILP and MINLP** (mixed integer *nonlinear* programming) problems. Thanks to OR-Tools, we can use the same model and just change the solver to SCIP or CBC."
   ]
  },
  {
   "cell_type": "code",
   "execution_count": 7,
   "metadata": {
    "colab": {
     "base_uri": "https://localhost:8080/"
    },
    "id": "Dvxq9hyCk8uW",
    "outputId": "a821a6bf-58ab-481e-b53e-3ccded71b1e2"
   },
   "outputs": [
    {
     "name": "stdout",
     "output_type": "stream",
     "text": [
      "================= Solution =================\n",
      "Solved in 3.00 milliseconds in 0 iterations\n",
      "\n",
      "Optimal value = 1800.0 💪power\n",
      "Army:\n",
      " - 🗡️Swordsmen = 6.0\n",
      " - 🏹Bowmen = 0.0\n",
      " - 🐎Horsemen = 6.0\n"
     ]
    }
   ],
   "source": [
    "# Create the linear solver using the CBC backend\n",
    "solver = pywraplp.Solver('Maximize army power', pywraplp.Solver.CBC_MIXED_INTEGER_PROGRAMMING)\n",
    "\n",
    "# 1. Create the variables we want to optimize\n",
    "swordsmen = solver.IntVar(0, solver.infinity(), 'swordsmen')\n",
    "bowmen = solver.IntVar(0, solver.infinity(), 'bowmen')\n",
    "horsemen = solver.IntVar(0, solver.infinity(), 'horsemen')\n",
    "\n",
    "# 2. Add constraints for each resource\n",
    "solver.Add(swordsmen*60 + bowmen*80 + horsemen*140 <= 1200)\n",
    "solver.Add(swordsmen*20 + bowmen*10 <= 800)\n",
    "solver.Add(bowmen*40 + horsemen*100 <= 600)\n",
    "\n",
    "# 3. Maximize the objective function\n",
    "solver.Maximize(swordsmen*70 + bowmen*95 + horsemen*230)\n",
    "\n",
    "# Solve problem\n",
    "status = solver.Solve()\n",
    "\n",
    "# If an optimal solution has been found, print results\n",
    "if status == pywraplp.Solver.OPTIMAL:\n",
    "  print('================= Solution =================')\n",
    "  print(f'Solved in {solver.wall_time():.2f} milliseconds in {solver.iterations()} iterations')\n",
    "  print()\n",
    "  print(f'Optimal value = {solver.Objective().Value()} 💪power')\n",
    "  print('Army:')\n",
    "  print(f' - 🗡️Swordsmen = {swordsmen.solution_value()}')\n",
    "  print(f' - 🏹Bowmen = {bowmen.solution_value()}')\n",
    "  print(f' - 🐎Horsemen = {horsemen.solution_value()}')\n",
    "else:\n",
    "  print('The solver could not find an optimal solution.')"
   ]
  },
  {
   "attachments": {},
   "cell_type": "markdown",
   "metadata": {
    "id": "vHTmOQzUK295"
   },
   "source": [
    "Strictly speaking, our variables are still floats (`type(swordsmen.solution_value()) = float`) but we can see that they don't have weird decimals anymore: the CBC solver really considered them as **integers**.\n",
    "\n",
    "In this example, we would generally just **round up these values** since the error is insignificant. However, it is important to remember to choose the appropriate solver according to the studied problem:\n",
    "\n",
    "* **LP** for continuous variables;\n",
    "* **MIP/MILP** for a combination of continuous and discrete variables.\n",
    "\n",
    "There are other types such as **quadratic** (QP) or **nonlinear** (NLP or MINLP, with an exponential objective function or constraints for instance) problems. They're applied in different contexts, but follow the same principles as LP or MIP solvers.\n",
    "\n",
    "<center><img src=\"/images/integerprogramming/continuousvsdiscrete.png\"></center>\n",
    "\n",
    "## 🧱 II. Building a general model\n",
    "\n",
    "But what if our **resources change**? Or if the cost of a unit evolved? What if we upgraded horsemen and their power increased?\n",
    "\n",
    "One of the best perks of OR-Tools is that it uses a general-purpose programming language like Python. Instead of static numbers, we can store our parameters in objects like **dictionaries** or **lists**.\n",
    "\n",
    "The code won't be as readable, but it becomes much more flexible: actually, it can be so flexible that we can solve an **entire class of optimization problems** without changing the model (just the parameters).\n",
    "\n",
    "Let's transform our input parameters into Python lists and feed them to the solver through a function."
   ]
  },
  {
   "cell_type": "code",
   "execution_count": 8,
   "metadata": {
    "colab": {
     "base_uri": "https://localhost:8080/"
    },
    "id": "qR-fbnruehR4",
    "outputId": "700e65e6-1e9b-4f1f-f4e3-6d7ba728340d"
   },
   "outputs": [
    {
     "name": "stdout",
     "output_type": "stream",
     "text": [
      "================= Solution =================\n",
      "Solved in 2.00 milliseconds in 0 iterations\n",
      "\n",
      "Optimal value = 1800.0 💪power\n",
      "Army:\n",
      " - 🗡️Swordsmen = 6.0\n",
      " - 🏹Bowmen = 0.0\n",
      " - 🐎Horsemen = 6.0\n"
     ]
    }
   ],
   "source": [
    "# Inputs\n",
    "UNITS = ['🗡️Swordsmen', '🏹Bowmen', '🐎Horsemen']\n",
    "\n",
    "DATA = [[60, 20, 0, 70],\n",
    "        [80, 10, 40, 95],\n",
    "        [140, 0, 100, 230]]\n",
    "\n",
    "RESOURCES = [1200, 800, 600]\n",
    "\n",
    "\n",
    "def solve_army(UNITS, DATA, RESOURCES):\n",
    "  # Create the linear solver using the CBC backend\n",
    "  solver = pywraplp.Solver('Maximize army power', pywraplp.Solver.CBC_MIXED_INTEGER_PROGRAMMING)\n",
    "\n",
    "  # 1. Create the variables we want to optimize\n",
    "  units = [solver.IntVar(0, solver.infinity(), unit) for unit in UNITS]\n",
    "\n",
    "  # 2. Add constraints for each resource\n",
    "  for r, _ in enumerate(RESOURCES):\n",
    "    solver.Add(sum(DATA[u][r] * units[u] for u, _ in enumerate(units)) <= RESOURCES[r])\n",
    "\n",
    "  # 3. Maximize the objective function\n",
    "  solver.Maximize(sum(DATA[u][-1] * units[u] for u, _ in enumerate(units)))\n",
    "\n",
    "  # Solve problem\n",
    "  status = solver.Solve()\n",
    "\n",
    "  # If an optimal solution has been found, print results\n",
    "  if status == pywraplp.Solver.OPTIMAL:\n",
    "    print('================= Solution =================')\n",
    "    print(f'Solved in {solver.wall_time():.2f} milliseconds in {solver.iterations()} iterations')\n",
    "    print()\n",
    "    print(f'Optimal value = {solver.Objective().Value()} 💪power')\n",
    "    print('Army:')\n",
    "    for u, _ in enumerate(units):\n",
    "      print(f' - {units[u].name()} = {units[u].solution_value()}')\n",
    "  else:\n",
    "    print('The solver could not find an optimal solution.')\n",
    "\n",
    "solve_army(UNITS, DATA, RESOURCES)"
   ]
  },
  {
   "attachments": {},
   "cell_type": "markdown",
   "metadata": {
    "id": "qj6lzFPsT6MS"
   },
   "source": [
    "We obtain the same results: our code seems to work. Now let's **change the parameters** to tackle a slightly more complex problem.\n",
    "\n",
    "Imagine we have a lot more resources: 🌾**183000**, 🪵**90512**, and 🪙**80150**, so we can also produce a lot more units! This is the new table:\n",
    "\n",
    "| Unit | 🌾Food | 🪵Wood | 🪙Gold | 💪Attack | ❤️Health\n",
    "| :--- | :---: | :---: | :---: | :---: | :---: |\n",
    "| 🗡️Swordsman      | 60  | 20  | 0   | 6   | 70 |\n",
    "| 🛡️Man-at-arms    | 100 | 0   | 20  | 12  | 155 |\n",
    "| 🏹Bowman         | 30  | 50  | 0   | 5   | 70 |\n",
    "| ❌Crossbowman    | 80  | 0   | 40  | 12  | 80 |\n",
    "| 🔫Handcannoneer  | 120 | 0   | 120 | 35  | 150 |\n",
    "| 🐎Horseman       | 100 | 20  | 0   | 9   | 125 |\n",
    "| ♞Knight          | 140 | 0   | 100 | 24  | 230 | \n",
    "| 🐏Battering ram  | 0   | 300 | 0   | 200 | 700 |\n",
    "| 🎯Springald      | 0   | 250 | 250 | 30 | 200 |\n",
    "\n",
    "Notice that we transformed the 💪**power** into two values: 💪**attack** and ❤️**health**, which is a little more detailed. Health values are higher than attack values, which is why we want to add a weighting factor to make them more comparable.\n",
    "\n",
    "Let's take 10 as an example, so $power = 10 \\times attack + health$. Our objective function becomes:\n",
    "\n",
    "$$\\text{maximize} \\ \\sum_{u \\in units} (10\\times attack + health) \\cdot u$$\n",
    "\n",
    "Adapting our code to this new problem is actually quite simple: we just have to **change the input parameters** and update the **objective function**."
   ]
  },
  {
   "cell_type": "code",
   "execution_count": 9,
   "metadata": {
    "colab": {
     "base_uri": "https://localhost:8080/"
    },
    "id": "Y2EUFqCETvLZ",
    "outputId": "e85623bc-00c0-4a62-e463-253fc6ce7a5c"
   },
   "outputs": [
    {
     "name": "stdout",
     "output_type": "stream",
     "text": [
      "================= Solution =================\n",
      "Solved in 74.00 milliseconds in 412 iterations\n",
      "\n",
      "Optimal value = 1393145.0 💪power\n",
      "Army:\n",
      " - 🗡️Swordsmen = 2.0\n",
      " - 🛡️Men-at-arms = 1283.0\n",
      " - 🏹Bowmen = 3.0\n",
      " - ❌Crossbowmen = 0.0\n",
      " - 🔫Handcannoneers = 454.0\n",
      " - 🐎Horsemen = 0.0\n",
      " - ♞Knights = 0.0\n",
      " - 🐏Battering rams = 301.0\n",
      " - 🎯Springalds = 0.0\n",
      " - 🪨Mangonels = 0.0\n"
     ]
    }
   ],
   "source": [
    "UNITS = [\n",
    "    '🗡️Swordsmen',\n",
    "    '🛡️Men-at-arms',\n",
    "    '🏹Bowmen',\n",
    "    '❌Crossbowmen',\n",
    "    '🔫Handcannoneers',\n",
    "    '🐎Horsemen',\n",
    "    '♞Knights',\n",
    "    '🐏Battering rams',\n",
    "    '🎯Springalds',\n",
    "    '🪨Mangonels',\n",
    "]\n",
    "\n",
    "DATA = [\n",
    "    [60, 20, 0, 6, 70],\n",
    "    [100, 0, 20, 12, 155],\n",
    "    [30, 50, 0, 5, 70],\n",
    "    [80, 0, 40, 12, 80],\n",
    "    [120, 0, 120, 35, 150],\n",
    "    [100, 20, 0, 9, 125],\n",
    "    [140, 0, 100, 24, 230],\n",
    "    [0, 300, 0, 200, 700],\n",
    "    [0, 250, 250, 30, 200],\n",
    "    [0, 400, 200, 12*3, 240]\n",
    "]\n",
    "\n",
    "RESOURCES = [183000, 90512, 80150]\n",
    "\n",
    "\n",
    "def solve_army(UNITS, DATA, RESOURCES):\n",
    "  # Create the linear solver using the CBC backend\n",
    "  solver = pywraplp.Solver('Maximize army power', pywraplp.Solver.CBC_MIXED_INTEGER_PROGRAMMING)\n",
    "\n",
    "  # 1. Create the variables we want to optimize\n",
    "  units = [solver.IntVar(0, solver.infinity(), unit) for unit in UNITS]\n",
    "\n",
    "  # 2. Add constraints for each resource\n",
    "  for r, _ in enumerate(RESOURCES):\n",
    "    solver.Add(sum(DATA[u][r] * units[u] for u, _ in enumerate(units)) <= RESOURCES[r])\n",
    "\n",
    "  # 3. Maximize the new objective function\n",
    "  solver.Maximize(sum((10*DATA[u][-2] + DATA[u][-1]) * units[u] for u, _ in enumerate(units)))\n",
    "\n",
    "  # Solve problem\n",
    "  status = solver.Solve()\n",
    "\n",
    "  # If an optimal solution has been found, print results\n",
    "  if status == pywraplp.Solver.OPTIMAL:\n",
    "    print('================= Solution =================')\n",
    "    print(f'Solved in {solver.wall_time():.2f} milliseconds in {solver.iterations()} iterations')\n",
    "    print()\n",
    "    print(f'Optimal value = {solver.Objective().Value()} 💪power')\n",
    "    print('Army:')\n",
    "    for u, _ in enumerate(units):\n",
    "      print(f' - {units[u].name()} = {units[u].solution_value()}')\n",
    "  else:\n",
    "    print('The solver could not find an optimal solution.')\n",
    "\n",
    "solve_army(UNITS, DATA, RESOURCES)"
   ]
  },
  {
   "attachments": {},
   "cell_type": "markdown",
   "metadata": {
    "id": "ID8pH6oQmKow"
   },
   "source": [
    "This problem would take a long time for humans to address, but the ILP solver did it in the blink of an eye. Better than that: it also gives us the guarantee that **our solution is optimal**, which means that our enemy cannot find a better army composition for the same cost!\n",
    "\n",
    "We could increase the number of units and give billions of resources but you get the picture: it would just take longer to obtain a solution, but it wouldn't change the problem.\n",
    "\n",
    "## ⚔️ III. Combining constraints\n",
    "\n",
    "Now, let's say we scouted our enemy and know that their army has a 💪power of **1,000,000**. We could build a much better army, but our resources are precious and it wouldn't be very efficient: all we have to do is to build an army with a 💪**power higher than 1,000,000** (even 1,000,001 would be enough).\n",
    "\n",
    "In other words, the total power is now a **constraint** (💪 > 1,000,000) instead of the objective to maximize. The new goal is to minimize the resources we need to produce this army. However, we can reuse our input parameters since they didn't change.\n",
    "\n",
    "The new constraint can be translated as \"the sum of the power of the selected units must be strictly greater than 1,000,000\".\n",
    "\n",
    "$$\\sum_{u \\in units} (10\\times attack + health) \\cdot u > 1\\,000\\,000$$\n",
    "\n",
    "In code, we can loop through our units and resources to design this constraint.\n",
    "\n",
    "The objective function also has to change. Our goal is to **minimize the sum of resources spent** to build the army.\n",
    "\n",
    "$$\\text{minimize} \\ \\sum_{u \\in units} (food + wood + gold) \\cdot u$$\n",
    "\n",
    "Once again, we can loop through our resources to implement it in OR-Tools."
   ]
  },
  {
   "cell_type": "code",
   "execution_count": 10,
   "metadata": {
    "colab": {
     "base_uri": "https://localhost:8080/"
    },
    "id": "nz5244z9nBYw",
    "outputId": "c2bb06c0-4214-4fa8-c85a-a3191c17612a"
   },
   "outputs": [
    {
     "name": "stdout",
     "output_type": "stream",
     "text": [
      "================= Solution =================\n",
      "Solved in 4.00 milliseconds in 0 iterations\n",
      "\n",
      "Optimal value = 111300.0 🌾🪵🪙resources\n",
      "Power = 💪1001700.0\n",
      "Army:\n",
      " - 🗡️Swordsmen = 0.0\n",
      " - 🛡️Men-at-arms = 0.0\n",
      " - 🏹Bowmen = 0.0\n",
      " - ❌Crossbowmen = 0.0\n",
      " - 🔫Handcannoneers = 0.0\n",
      " - 🐎Horsemen = 0.0\n",
      " - ♞Knights = 0.0\n",
      " - 🐏Battering rams = 371.0\n",
      " - 🎯Springalds = 0.0\n",
      " - 🪨Mangonels = 0.0\n",
      "\n",
      "Resources:\n",
      " - 🌾Food = 0.0\n",
      " - 🪵Wood = 111300.0\n",
      " - 🪙Gold = 0.0\n"
     ]
    }
   ],
   "source": [
    "def solve_army(UNITS, DATA, RESOURCES):\n",
    "  # Create the linear solver using the CBC backend\n",
    "  solver = pywraplp.Solver('Minimize resource consumption', pywraplp.Solver.CBC_MIXED_INTEGER_PROGRAMMING)\n",
    "\n",
    "  # 1. Create the variables we want to optimize\n",
    "  units = [solver.IntVar(0, solver.infinity(), unit) for unit in UNITS]\n",
    "\n",
    "  # 2. Add power constraint\n",
    "  solver.Add(sum((10 * DATA[u][-2] + DATA[u][-1]) * units[u] for u, _ in enumerate(units)) >= 1000001)\n",
    "\n",
    "  # 3. Minimize the objective function\n",
    "  solver.Minimize(sum((DATA[u][0] + DATA[u][1] + DATA[u][2]) * units[u] for u, _ in enumerate(units)))\n",
    "\n",
    "  # Solve problem\n",
    "  status = solver.Solve()\n",
    "\n",
    "  # If an optimal solution has been found, print results\n",
    "  if status == pywraplp.Solver.OPTIMAL:\n",
    "    print('================= Solution =================')\n",
    "    print(f'Solved in {solver.wall_time():.2f} milliseconds in {solver.iterations()} iterations')\n",
    "    print()\n",
    "\n",
    "    power = sum((10 * DATA[u][-2] + DATA[u][-1]) * units[u].solution_value() for u, _ in enumerate(units))\n",
    "    print(f'Optimal value = {solver.Objective().Value()} 🌾🪵🪙resources')\n",
    "    print(f'Power = 💪{power}')\n",
    "    print('Army:')\n",
    "    for u, _ in enumerate(units):\n",
    "      print(f' - {units[u].name()} = {units[u].solution_value()}')\n",
    "    print()\n",
    "\n",
    "    food = sum((DATA[u][0]) * units[u].solution_value() for u, _ in enumerate(units))\n",
    "    wood = sum((DATA[u][1]) * units[u].solution_value() for u, _ in enumerate(units))\n",
    "    gold = sum((DATA[u][2]) * units[u].solution_value() for u, _ in enumerate(units))\n",
    "    print('Resources:')\n",
    "    print(f' - 🌾Food = {food}')\n",
    "    print(f' - 🪵Wood = {wood}')\n",
    "    print(f' - 🪙Gold = {gold}')\n",
    "  else:\n",
    "      print('The solver could not find an optimal solution.')\n",
    "\n",
    "solve_army(UNITS, DATA, RESOURCES)"
   ]
  },
  {
   "attachments": {},
   "cell_type": "markdown",
   "metadata": {
    "id": "Qxeyd7vV3YmH"
   },
   "source": [
    "The solver found an optimal solution: we need to build **371 🐏battering rams** for a total cost of 111,300 🪵wood. Wait, what if we don't have that much wood? In the previous section, we only had 🪵90512: we cannot produce 371 🐏battering rams. 😱\n",
    "\n",
    "So is it possible to take these **limited resources** into account and still try to **build the best army**? Actually, it's super easy: we just have to copy/paste the constraints from the previous section.\n",
    "\n",
    "In this version, we have two types of constraints:\n",
    "\n",
    "* The total power must be **greater than 1,000,000**;\n",
    "* We cannot spend more than our **limited resources**."
   ]
  },
  {
   "cell_type": "code",
   "execution_count": 11,
   "metadata": {
    "colab": {
     "base_uri": "https://localhost:8080/"
    },
    "id": "lyi0eVvu1I8Q",
    "outputId": "aa8815a5-fb1e-452e-8aa9-4988c98b1494"
   },
   "outputs": [
    {
     "name": "stdout",
     "output_type": "stream",
     "text": [
      "================= Solution =================\n",
      "Solved in 28.00 milliseconds in 1 iterations\n",
      "\n",
      "Optimal value = 172100.0 🌾🪵🪙resources\n",
      "Power = 💪1000105.0\n",
      "Army:\n",
      " - 🗡️Swordsmen = 1.0\n",
      " - 🛡️Men-at-arms = 681.0\n",
      " - 🏹Bowmen = 0.0\n",
      " - ❌Crossbowmen = 0.0\n",
      " - 🔫Handcannoneers = 0.0\n",
      " - 🐎Horsemen = 0.0\n",
      " - ♞Knights = 0.0\n",
      " - 🐏Battering rams = 301.0\n",
      " - 🎯Springalds = 0.0\n",
      " - 🪨Mangonels = 0.0\n",
      "\n",
      "Resources:\n",
      " - 🌾Food = 68160.0\n",
      " - 🪵Wood = 90320.0\n",
      " - 🪙Gold = 13620.0\n"
     ]
    }
   ],
   "source": [
    "def solve_army(UNITS, DATA, RESOURCES):\n",
    "  # Create the linear solver using the CBC backend\n",
    "  solver = pywraplp.Solver('Minimize resource consumption', pywraplp.Solver.CBC_MIXED_INTEGER_PROGRAMMING)\n",
    "\n",
    "  # 1. Create the variables we want to optimize\n",
    "  units = [solver.IntVar(0, solver.infinity(), unit) for unit in UNITS]\n",
    "\n",
    "  # 2. Add constraints for each resource\n",
    "  for r, _ in enumerate(RESOURCES):\n",
    "    solver.Add(sum((10 * DATA[u][-2] + DATA[u][-1]) * units[u] for u, _ in enumerate(units)) >= 1000001)\n",
    "\n",
    "  # Old constraints for limited resources\n",
    "  for r, _ in enumerate(RESOURCES):\n",
    "    solver.Add(sum(DATA[u][r] * units[u] for u, _ in enumerate(units)) <= RESOURCES[r])\n",
    "\n",
    "  # 3. Minimize the objective function\n",
    "  solver.Minimize(sum((DATA[u][0] + DATA[u][1] + DATA[u][2]) * units[u] for u, _ in enumerate(units)))\n",
    "\n",
    "  # Solve problem\n",
    "  status = solver.Solve()\n",
    "\n",
    "  # If an optimal solution has been found, print results\n",
    "  if status == pywraplp.Solver.OPTIMAL:\n",
    "    print('================= Solution =================')\n",
    "    print(f'Solved in {solver.wall_time():.2f} milliseconds in {solver.iterations()} iterations')\n",
    "    print()\n",
    "\n",
    "    power = sum((10 * DATA[u][-2] + DATA[u][-1]) * units[u].solution_value() for u, _ in enumerate(units))\n",
    "    print(f'Optimal value = {solver.Objective().Value()} 🌾🪵🪙resources')\n",
    "    print(f'Power = 💪{power}')\n",
    "    print('Army:')\n",
    "    for u, _ in enumerate(units):\n",
    "      print(f' - {units[u].name()} = {units[u].solution_value()}')\n",
    "    print()\n",
    "    \n",
    "    food = sum((DATA[u][0]) * units[u].solution_value() for u, _ in enumerate(units))\n",
    "    wood = sum((DATA[u][1]) * units[u].solution_value() for u, _ in enumerate(units))\n",
    "    gold = sum((DATA[u][2]) * units[u].solution_value() for u, _ in enumerate(units))\n",
    "    print('Resources:')\n",
    "    print(f' - 🌾Food = {food}')\n",
    "    print(f' - 🪵Wood = {wood}')\n",
    "    print(f' - 🪙Gold = {gold}')\n",
    "  else:\n",
    "      print('The solver could not find an optimal solution.')\n",
    "\n",
    "solve_army(UNITS, DATA, RESOURCES)"
   ]
  },
  {
   "attachments": {},
   "cell_type": "markdown",
   "metadata": {
    "id": "W2oJLwbInCIf"
   },
   "source": [
    "Since we now have a **limited resource of 🪵wood**, the number of 🐏battering rams sadly dropped from 371 to 301. In exchange, we got 681 🛡️men-at-arms and 1 lost 🗡️swordsman (welcome to them).\n",
    "\n",
    "The total cost of the army is **172,100**, which is much higher than the 111,300 we previously found (+65% increase) but it truly is the optimal solution under these constraints. It shows that we should produce more wood because these 🐏 battering rams are extremely cost-efficient!\n",
    "\n",
    "This example shows **how modular** LP models can be. It is possible to reuse parts of the code, like constraints, in another model to combine them and solve more complex problems.\n",
    "\n",
    "## 🧠 IV. Linear Programming vs Machine Learning\n",
    "\n",
    "Let's talk about the elephant in the room. Why not use **machine learning** (in a broad sense) instead of linear programming? It's not like this problem cannot be solved with a genetic algorithm for instance.\n",
    "\n",
    "Mathematical optimization is often neglected in favor of machine learning techniques, but both have their merits:\n",
    "\n",
    "* Linear programming can produce an **optimal solution** in an undetermined amount of time (it can take years), while machine learning can approximate complex functions in no time.\n",
    "* There is **no training** in LP, but an expert is required to build a mathematical model. Machine learning needs data, but the models can be used as black boxes to solve a problem.\n",
    "* As a rule of thumb, problems that **do not have a particular time constraint** and/or are not extremely complex can be advantageously solved with linear programming.\n",
    "\n",
    "<center><img src=\"/images/integerprogramming/lpvsml.png\"></center>\n",
    "\n",
    "## Conclusion\n",
    "\n",
    "In this tutorial, we dived deeper into our understanding of mathematical optimization.\n",
    "\n",
    "* We talked about solvers and types of optimization problems: **LP, MIP, NLP**;\n",
    "* We modeled and solved an extremely common optimization problem in an optimal way and **generalized our model** through a function;\n",
    "* We reframed this problem and **merged two sets of constraints** to obtain the best army composition for the lowest price;\n",
    "* We compared the **pros and cons** of linear programming and machine learning.\n",
    "\n",
    "There are **a lot more problems** where optimization can be applied. For instance, how to create school timetables that satisfy everybody's requirements? How to deliver 1,000 different orders in a minimum amount of time? Where to create a new metro line to maximize its usefulness?\n",
    "\n",
    "In future articles, we'll talk about new types of applications for these techniques, including satisfiability and nonlinear problems.\n",
    "\n",
    "I hope you enjoyed this more advanced article. If you like machine learning and optimization, [**let's connect on Twitter**](https://twitter.com/maximelabonne)!\n",
    "\n",
    "## 🥇 Linear Programming Course\n",
    "\n",
    "<a href=\"https://github.com/mlabonne/Linear-Programming-Course\" class=\"related\">🔎 Course overview</a>\n",
    "\n",
    "<a href=\"https://mlabonne.github.io/blog/linearoptimization/\" class=\"related\">📝 Chapter 1: Introduction to Linear Programming</a>\n",
    "\n",
    "<a href=\"https://mlabonne.github.io/blog/integerprogramming/\" class=\"related\">📝 Chapter 2: Integer vs. Linear Programming</a>\n",
    "\n",
    "<a href=\"https://mlabonne.github.io/blog/constraintprogramming/\" class=\"related\">📝 Chapter 3: Constraint Programming</a>\n",
    "\n",
    "<a href=\"https://mlabonne.github.io/blog/nonlinearprogramming/\" class=\"related\">📝 Chapter 4: Nonlinear Programming for Marketing Budget Allocation</a>"
   ]
  }
 ],
 "metadata": {
  "colab": {
   "collapsed_sections": [],
   "name": "Become a master strategist with OR-Tools.ipynb",
   "provenance": []
  },
  "kernelspec": {
   "display_name": "Python 3",
   "name": "python3"
  },
  "language_info": {
   "name": "python",
   "version": "3.8.12"
  }
 },
 "nbformat": 4,
 "nbformat_minor": 0
}
