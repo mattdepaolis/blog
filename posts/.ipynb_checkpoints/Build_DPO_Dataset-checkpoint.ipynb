{
 "cells": [
  {
   "cell_type": "markdown",
   "id": "ca60bc6f-0f0b-41d6-9057-2afef63765f9",
   "metadata": {},
   "source": [
    "---\n",
    "aliases:\n",
    "- /dpo/\n",
    "categories:\n",
    "- Post-Training LLM\n",
    "date: '2024-11-01'\n",
    "colab: <a href=\"https://colab.research.google.com/drive/12t6aLEcGJrDWCHcBv-JBpV2Z6tZkHke5?usp=sharing\"><img src=\"images/colab.png\" alt=\"Open In Colab\"></a>\n",
    "image: /images/dpo/thumbnail.jpg\n",
    "title: \"Build a High-Quality DPO Dataset\"\n",
    "subtitle: \"Building a High-Quality DPO Dataset by Aggregating Best Answers\"\n",
    "---"
   ]
  },
  {
   "cell_type": "markdown",
   "id": "688a77a7-ee11-424d-a694-a519b1be4ed3",
   "metadata": {},
   "source": [
    "<center>\n",
    "    <img src=\"images/dpo/thumbnail.jpg\" alt=\"Image\">\n",
    "</center>\n"
   ]
  },
  {
   "cell_type": "markdown",
   "id": "056c5c0d-03db-4fa9-98d7-520d1b79b3d1",
   "metadata": {},
   "source": [
    "Direct Preference Optimization (DPO) is a technique in fine-tuning language models using human preference data. In this article, we’ll explore how to build a high-quality DPO dataset by consolidating multiple existing datasets, focusing on extracting only the best answers. We’ll walk through the code implementation step-by-step to demonstrate this process."
   ]
  },
  {
   "cell_type": "markdown",
   "id": "62d0ed81-16ac-4fbe-bfc3-c51ec0170fd8",
   "metadata": {},
   "source": [
    "## What is Direct Preference Optimization (DPO)?\n",
    "\n",
    "As language models advance, aligning them with human preferences has become increasingly important. Direct Preference Optimization (DPO) is a method that directly integrates human preferences into the training process, eliminating the need for separate reward models or reinforcement learning.\n",
    "\n",
    "**Key Concepts of DPO:**\n",
    "\n",
    "- **Direct Optimization:** DPO adjusts the language model to favor responses preferred by humans, streamlining the alignment process.\n",
    "\n",
    "- **Simplified Training:** By removing the need for auxiliary models and reinforcement learning, DPO reduces computational overhead and complexity.\n",
    "\n",
    "- **Enhanced Alignment:** This approach produces outputs more in line with human expectations and values, improving user satisfaction."
   ]
  },
  {
   "cell_type": "markdown",
   "id": "9f485acb-141f-4f46-ac8d-6766cde9060a",
   "metadata": {},
   "source": [
    "## DPO Fine-tuning\n",
    "\n",
    "At the core of the DPO fine-tuning process lies the concept of creating an exact duplicate of the language model (LM) being trained, with its parameters set to remain unchanged. This \"frozen\" model serves as a reference point during training.\n",
    "\n",
    "For each data point, both the trained (policy) and frozen (reference) language models evaluate the chosen and rejected responses. The evaluation score is calculated as the product of the probabilities assigned to each token in the target response at every step. Thanks to the causal decoder architecture of these generative language models, we can compute this score in a single forward pass.\n",
    "\n",
    "<center>\n",
    "    <img src=\"images/dpo/chosen-reject-scoring.png\" alt=\"Image\">\n",
    "</center>\n",
    "\n",
    "\n",
    "To score a chosen or rejected response for a given prompt, the LM calculates the probability of generating each response token sequentially. These probabilities are multiplied together to obtain the final score for that response.\n",
    "\n",
    "With scores for both the chosen and rejected responses from both models, we compute the ratio between the scores from the trained language model (𝑅_policy​) and those from the frozen language model (𝑅_reference​). These ratios are then used to calculate the final loss, guiding the model's weight adjustments during the gradient descent update:\n",
    "\n",
    "<center>\n",
    "    <img src=\"images//dpo/dpo-loss.png\" alt=\"Image\">\n",
    "</center>\n",
    "\n",
    "\n",
    "\n",
    "where β is a hyperparameter and σ is the sigmoid function.\n"
   ]
  },
  {
   "cell_type": "markdown",
   "id": "2adfcb3c-79e6-4527-bbec-ff3a65cea069",
   "metadata": {},
   "source": [
    "## Building a High-Quality DPO Dataset\n",
    "\n",
    "To effectively implement Direct Preference Optimization (DPO), it's essential to curate a dataset of high-quality preference pairs. Several notable datasets can serve as valuable resources:\n",
    "\n",
    "- **argilla/distilabel-math-preference-dpo**: Developed by Argilla using the Distilabel framework, this dataset comprises approximately 2,418 entries. Each entry includes a math-related instruction, two model-generated responses, and corresponding quality ratings, facilitating the enhancement of mathematical reasoning in language models.\n",
    "- **argilla/distilabel-intel-orca-dpo-pairs**: This dataset is a \"distilabeled\" version of the widely used Intel/orca_dpo_pairs. It has been improved using the Distilabel framework to enhance the quality of preference pairs, making it suitable for fine-tuning models with diverse preference data.\n",
    "\n",
    "- **argilla/ultrafeedback-binarized-preferences-cleaned**: This dataset offers cleaned and binarized preference pairs, providing a refined resource for training models to understand and prioritize user preferences effectively.\n",
    "\n",
    "- **M4-ai/prm_dpo_pairs_cleaned**: Containing cleaned DPO pairs, this dataset aids in fine-tuning models to align with preferred responses, enhancing their decision-making capabilities.\n",
    "\n",
    "- **jondurbin/truthy-dpo-v0.1**: Focused on truthfulness, this dataset provides preference pairs that help models discern and prioritize truthful information, crucial for maintaining accuracy and reliability.\n",
    "\n",
    "- **unalignment/toxic-dpo-v0.2**: This dataset addresses toxicity by offering preference pairs that guide models to avoid generating harmful or offensive content, promoting safer AI interactions.\n",
    "\n",
    "- **argilla/Capybara-Preferences**: A collection of preference pairs tailored to specific tasks, this dataset assists in fine-tuning models for specialized applications, enhancing their adaptability and performance.\n",
    "\n",
    "By selecting the highest-rated responses from these datasets, we can curate a collection of superior preference pairs, thereby enhancing the effectiveness of DPO fine-tuning."
   ]
  },
  {
   "cell_type": "markdown",
   "id": "cc1f0bc4-d456-4cd5-a9c6-e80abeda5924",
   "metadata": {},
   "source": [
    "## Code Implementation\n",
    "\n",
    "Let's dive into the code to see how we can achieve this. We'll use the datasets library from Hugging Face to handle dataset loading and manipulation.\n",
    "\n",
    "### 1. Import Necessary Libraries"
   ]
  },
  {
   "cell_type": "code",
   "execution_count": 2,
   "id": "e0ae4b97-b2df-4866-bd45-da46b2540d20",
   "metadata": {},
   "outputs": [],
   "source": [
    "from datasets import load_dataset, Dataset, concatenate_datasets as hf_concatenate_datasets, DatasetDict, Features, Value"
   ]
  },
  {
   "cell_type": "markdown",
   "id": "1508664b-dda8-41c7-b7a0-449c2a9c6d0a",
   "metadata": {},
   "source": [
    "Explanation:\n",
    "\n",
    "\t•\tload_dataset: Loads datasets from the Hugging Face Hub.\n",
    "\t•\tDataset: A class representing a dataset.\n",
    "\t•\tconcatenate_datasets: Function to concatenate multiple datasets.\n",
    "\t•\tDatasetDict: A dictionary-like class for datasets with multiple splits.\n",
    "\t•\tFeatures, Value: Used to define a consistent schema for our datasets."
   ]
  },
  {
   "cell_type": "markdown",
   "id": "89315047-4f4f-4ab1-b256-a47cb6082338",
   "metadata": {},
   "source": [
    "### 2. Load Datasets"
   ]
  },
  {
   "cell_type": "code",
   "execution_count": 12,
   "id": "eba1fdde-5507-4920-a9d6-6e70820b40d3",
   "metadata": {},
   "outputs": [],
   "source": [
    "# Load datasets\n",
    "datasets = {\n",
    "    \"math_preference\": load_dataset(\"argilla/distilabel-math-preference-dpo\"),\n",
    "    \"intel_orca\": load_dataset(\"argilla/distilabel-intel-orca-dpo-pairs\"),\n",
    "    \"ultrafeedback_binarized\": load_dataset(\"argilla/ultrafeedback-binarized-preferences-cleaned\"),\n",
    "    \"prm_dpo\": load_dataset(\"M4-ai/prm_dpo_pairs_cleaned\"),\n",
    "    \"truthy_dpo\": load_dataset(\"jondurbin/truthy-dpo-v0.1\"),\n",
    "    \"toxic_dpo\": load_dataset(\"unalignment/toxic-dpo-v0.2\"),\n",
    "    \"capybara\": load_dataset(\"argilla/Capybara-Preferences\"),\n",
    "}"
   ]
  },
  {
   "cell_type": "markdown",
   "id": "12fb3de2-61e7-47c4-9971-ba1e70c132c2",
   "metadata": {},
   "source": [
    "Explanation:\n",
    "\n",
    "We load several DPO datasets from the Hugging Face Hub and store them in a dictionary for easy access. Each key corresponds to a dataset name, and the value is the loaded dataset."
   ]
  },
  {
   "cell_type": "markdown",
   "id": "0007b73e-bbb3-4578-9311-75639696a9eb",
   "metadata": {},
   "source": [
    "### 3. Define a Consistent Schema"
   ]
  },
  {
   "cell_type": "code",
   "execution_count": 13,
   "id": "e607fd9a-3423-4e57-b1f5-4d7f54953aff",
   "metadata": {},
   "outputs": [],
   "source": [
    "# Define the consistent schema\n",
    "consistent_features = Features({\n",
    "    \"origin\": Value(\"string\"),\n",
    "    \"chosen\": [{\"content\": Value(\"string\"), \"role\": Value(\"string\")}],\n",
    "    \"rejected\": [{\"content\": Value(\"string\"), \"role\": Value(\"string\")}],\n",
    "    \"prompt\": Value(\"string\"),\n",
    "})"
   ]
  },
  {
   "cell_type": "markdown",
   "id": "f4b5f1a3-b51d-43be-bbae-e6a82a8a765e",
   "metadata": {},
   "source": [
    "Explanation:\n",
    "\n",
    "We define a consistent schema (consistent_features) to standardize the datasets. This schema includes:\n",
    "\n",
    "\t•\torigin: The source of the data.\n",
    "\t•\tchosen: The preferred answer, along with its role.\n",
    "\t•\trejected: The less preferred answer.\n",
    "\t•\tprompt: The input prompt to which the answers respond."
   ]
  },
  {
   "cell_type": "markdown",
   "id": "0e9f274b-2a60-4b4b-be47-3b7c62f0505b",
   "metadata": {},
   "source": [
    "### 4. Transform Examples Function"
   ]
  },
  {
   "cell_type": "code",
   "execution_count": 14,
   "id": "3ee20137-cc77-452c-8974-bc37da250bb5",
   "metadata": {},
   "outputs": [],
   "source": [
    "# Function to transform the 'chosen' and 'rejected' features into lists of dictionaries\n",
    "def transform_example(example):\n",
    "    if 'prompt' in example and 'chosen' in example:\n",
    "        example['chosen'] = [\n",
    "            {\"content\": example['prompt'], \"role\": \"user\"},\n",
    "            {\"content\": example['chosen'], \"role\": \"assistant\"}\n",
    "        ]\n",
    "    if 'prompt' in example and 'rejected' in example:\n",
    "        example['rejected'] = [\n",
    "            {\"content\": example['prompt'], \"role\": \"user\"},\n",
    "            {\"content\": example['rejected'], \"role\": \"assistant\"}\n",
    "        ]\n",
    "    return example"
   ]
  },
  {
   "cell_type": "markdown",
   "id": "e2ff2943-0ccb-4d80-8f0a-50e241eb720c",
   "metadata": {},
   "source": [
    "Explanation:\n",
    "\n",
    "This function transforms each example to match our consistent schema. It structures the ‘chosen’ and ‘rejected’ responses as lists of dictionaries, pairing the prompt with the assistant’s response."
   ]
  },
  {
   "cell_type": "markdown",
   "id": "b7dcb743-86fc-4bb7-9aad-cfba3293f048",
   "metadata": {},
   "source": [
    "### 5. Align Dataset Features"
   ]
  },
  {
   "cell_type": "code",
   "execution_count": 15,
   "id": "9d39a673-2ce0-4720-9a1f-2832520ee2be",
   "metadata": {},
   "outputs": [],
   "source": [
    "# Align dataset features\n",
    "def align_features(dataset, source_name):\n",
    "    aligned_data = {\n",
    "        feature: dataset[feature] if feature in dataset.column_names else [None] * len(dataset)\n",
    "        for feature in consistent_features\n",
    "    }\n",
    "    aligned_data[\"origin\"] = [source_name] * len(dataset)\n",
    "    return Dataset.from_dict(aligned_data, features=consistent_features)"
   ]
  },
  {
   "cell_type": "markdown",
   "id": "27b65d41-9e9d-4948-95b2-e4d93ee40c5b",
   "metadata": {},
   "source": [
    "Explanation:\n",
    "\n",
    "The align_features function ensures that each dataset conforms to the consistent schema. It fills in missing features with None and adds the origin field."
   ]
  },
  {
   "cell_type": "markdown",
   "id": "bdd886ff-cca8-4dec-bcc1-de8b878a6d42",
   "metadata": {},
   "source": [
    "### 6. Preprocess Datasets\n",
    "\n",
    "We preprocess each dataset individually to filter and transform the data according to our requirements.\n",
    "\n",
    "6.1 Capybara Dataset"
   ]
  },
  {
   "cell_type": "code",
   "execution_count": 16,
   "id": "3bc1862c-e315-4b7f-8dfe-324a8a248425",
   "metadata": {},
   "outputs": [],
   "source": [
    "# Capybara dataset\n",
    "datasets['capybara']['train'] = datasets['capybara']['train']\\\n",
    "    .filter(lambda x: x['chosen_rating'] is float(x['chosen_rating']) >= 5)\\\n",
    "    .map(lambda x: {'prompt': x['chosen'][0]['content'] if x['chosen'] else \"\", **x})"
   ]
  },
  {
   "cell_type": "markdown",
   "id": "8833e489-e816-43f4-a6e3-755413e8f774",
   "metadata": {},
   "source": [
    "Explanation:\n",
    "\n",
    "\t•\tFilter: Keeps entries where the chosen_rating is None or greater than or equal to 5.\n",
    "\t•\tMap: Extracts the prompt from the chosen response.\n",
    "\n",
    "6.2 PRM DPO Dataset"
   ]
  },
  {
   "cell_type": "code",
   "execution_count": 17,
   "id": "1c97627e-436d-4a14-836a-9a7cf222f73a",
   "metadata": {},
   "outputs": [],
   "source": [
    "# PRM DPO dataset\n",
    "datasets['prm_dpo']['train'] = datasets['prm_dpo']['train']\\\n",
    "    .filter(lambda x: x['is_chosen_correct'])\\\n",
    "    .map(transform_example)"
   ]
  },
  {
   "cell_type": "markdown",
   "id": "3eb62297-3e98-4fef-9f56-bfed22a85bd0",
   "metadata": {},
   "source": [
    "Explanation:\n",
    "\n",
    "\t•\tFilter: Keeps entries where the chosen answer is marked as correct.\n",
    "\t•\tMap: Applies the transform_example function to standardize the data.\n",
    "\n",
    "6.3 Ultrafeedback Binarized Dataset"
   ]
  },
  {
   "cell_type": "code",
   "execution_count": 18,
   "id": "700404bf-5c61-4ee5-b2e2-709b3e44ac11",
   "metadata": {},
   "outputs": [],
   "source": [
    "# Ultrafeedback binarized dataset\n",
    "datasets['ultrafeedback_binarized']['train'] = datasets['ultrafeedback_binarized']['train']\\\n",
    "    .filter(lambda x: x['chosen-rating'] is x['chosen-rating'] >= 5)"
   ]
  },
  {
   "cell_type": "markdown",
   "id": "0018e271-9677-4698-8a74-8be12988d8c4",
   "metadata": {},
   "source": [
    "Explanation:\n",
    "\n",
    "Filters out entries where the chosen answer has a rating less than 5.\n",
    "\n",
    "6.4 Intel ORCA Dataset"
   ]
  },
  {
   "cell_type": "code",
   "execution_count": 19,
   "id": "c87ba2ab-13d6-4f83-a6a6-e67b76b4648a",
   "metadata": {},
   "outputs": [],
   "source": [
    "# Intel ORCA dataset\n",
    "datasets['intel_orca']['train'] = datasets['intel_orca']['train']\\\n",
    "    .rename_column('input', 'prompt')\\\n",
    "    .filter(lambda x: x['rating'] is not None and x['rating'][0] >= 10 and x['rating'][1] >= 10)\\\n",
    "    .filter(lambda x: not x.get('in_gsm8k_train', False))\\\n",
    "    .map(transform_example)"
   ]
  },
  {
   "cell_type": "markdown",
   "id": "80b902ec-e594-46c1-8e0e-0654918979ce",
   "metadata": {},
   "source": [
    "Explanation:\n",
    "\n",
    "\t•\tRename Column: Renames ‘input’ to ‘prompt’ for consistency.\n",
    "\t•\tFilter: Keeps entries with high ratings (>=10) for both choices and excludes those in the GSM8K train set.\n",
    "\t•\tMap: Transforms examples to match the schema.\n",
    "\n",
    "6.5 Math Preference Dataset"
   ]
  },
  {
   "cell_type": "code",
   "execution_count": 20,
   "id": "baaded73-363e-44ae-a53d-e46926ff50db",
   "metadata": {},
   "outputs": [],
   "source": [
    "# Math preference dataset\n",
    "datasets['math_preference']['train'] = datasets['math_preference']['train']\\\n",
    "    .rename_column('instruction', 'prompt')\\\n",
    "    .rename_column('chosen_response', 'chosen')\\\n",
    "    .rename_column('rejected_response', 'rejected')\\\n",
    "    .filter(lambda x: x['chosen_rating'] is x['chosen_rating'] >= 9)\\\n",
    "    .map(transform_example)"
   ]
  },
  {
   "cell_type": "markdown",
   "id": "f498c970-d281-4848-8f61-481a6221eecf",
   "metadata": {},
   "source": [
    "Explanation:\n",
    "\n",
    "\t•\tRename Columns: Adjusts column names to match our schema.\n",
    "\t•\tFilter: Keeps entries where the chosen rating is None or greater than or equal to 9.\n",
    "\t•\tMap: Applies the transformation function.\n",
    "\n",
    "6.6 Truthy DPO and Toxic DPO Datasets"
   ]
  },
  {
   "cell_type": "code",
   "execution_count": 21,
   "id": "e5c11f05-887e-47c2-9684-ebd2e20ef42a",
   "metadata": {},
   "outputs": [],
   "source": [
    "# Truthy DPO and Toxic DPO datasets\n",
    "datasets['truthy_dpo'] = datasets['truthy_dpo'].map(transform_example)\n",
    "datasets['toxic_dpo'] = datasets['toxic_dpo'].map(transform_example)"
   ]
  },
  {
   "cell_type": "markdown",
   "id": "061e9397-1b4b-4cce-8c15-1adc67e717ab",
   "metadata": {},
   "source": [
    "Explanation:\n",
    "\n",
    "Simply applies the transform_example function to standardize these datasets."
   ]
  },
  {
   "cell_type": "markdown",
   "id": "e8308373-2c6b-4276-9a5a-f3ce6d71ed22",
   "metadata": {},
   "source": [
    "### 7. Align and Collect All Datasets"
   ]
  },
  {
   "cell_type": "code",
   "execution_count": 23,
   "id": "cf7976ea-1bd3-421d-a1ca-bee1d521b118",
   "metadata": {},
   "outputs": [],
   "source": [
    "# Align and collect all datasets\n",
    "all_datasets = []\n",
    "for name, dataset_dict in datasets.items():\n",
    "    for split, dataset in dataset_dict.items():\n",
    "        aligned_dataset = align_features(dataset, name)\n",
    "        all_datasets.append(aligned_dataset)"
   ]
  },
  {
   "cell_type": "markdown",
   "id": "b7a535a2-e1e7-4e51-8df4-dc68435863cb",
   "metadata": {},
   "source": [
    "Explanation:\n",
    "\n",
    "We iterate over each dataset and its splits, align their features, and collect them into a list."
   ]
  },
  {
   "cell_type": "markdown",
   "id": "ec6413c0-046f-4023-8f68-358f7dc44921",
   "metadata": {},
   "source": [
    "### 8. Concatenate All Datasets"
   ]
  },
  {
   "cell_type": "code",
   "execution_count": 25,
   "id": "7662df48-f967-417f-b426-4464e5c4cb99",
   "metadata": {},
   "outputs": [],
   "source": [
    "# Concatenate all datasets\n",
    "combined_dataset = hf_concatenate_datasets(all_datasets)"
   ]
  },
  {
   "cell_type": "markdown",
   "id": "a8cbf68f-b263-44cd-9c2b-5ea4a244a4a5",
   "metadata": {},
   "source": [
    "Explanation:\n",
    "\n",
    "We concatenate all the aligned datasets into a single dataset using concatenate_datasets."
   ]
  },
  {
   "cell_type": "markdown",
   "id": "410ef413-9720-4c28-bc0e-2db8dc990643",
   "metadata": {},
   "source": [
    "### 9. Create the Final Dataset"
   ]
  },
  {
   "cell_type": "code",
   "execution_count": 26,
   "id": "49b6cb50-e14e-47e1-b3bf-7340bdc6848b",
   "metadata": {},
   "outputs": [],
   "source": [
    "# Create the final dataset\n",
    "final_dataset = DatasetDict({'train': combined_dataset})"
   ]
  },
  {
   "cell_type": "markdown",
   "id": "0215f982-fa0d-41b5-a3da-5a72de2eda56",
   "metadata": {},
   "source": [
    "Explanation:\n",
    "\n",
    "We wrap the combined dataset into a DatasetDict with a ‘train’ split.\n",
    "\n",
    "10. Verify the Dataset"
   ]
  },
  {
   "cell_type": "code",
   "execution_count": 27,
   "id": "f5b16c59-5640-430d-bb67-567777518e3a",
   "metadata": {},
   "outputs": [
    {
     "name": "stdout",
     "output_type": "stream",
     "text": [
      "DatasetDict({\n",
      "    train: Dataset({\n",
      "        features: ['origin', 'chosen', 'rejected', 'prompt'],\n",
      "        num_rows: 45011\n",
      "    })\n",
      "})\n",
      "{'origin': ['math_preference'], 'chosen': [[{'content': 'How can I simplify the algebraic expression `(3x^2 - 4y^3) / (2x)`?.\\n Take a deep breath, think step by step, and give an accurate response', 'role': 'user'}, {'content': 'To simplify the algebraic expression `(3x^2 - 4y^3) / (2x)`, we can follow a few steps:\\n\\nStep 1: Distribute the division symbol by multiplying the expression by the reciprocal of the denominator. The reciprocal of `2x` is `1/(2x)`, so the expression becomes `(3x^2 - 4y^3) * (1/(2x))`.\\n\\nStep 2: Simplify within the parentheses by dividing each term separately. \\n\\n- For the first term, `3x^2`, divide `3x^2` by `2x`. This gives us `(3x^2) / (2x) = (3/2) * (x^2 / x) = (3/2) * x`.\\n\\n- For the second term, `-4y^3`, divide `-4y^3` by `2x`. This gives us `(-4y^3) / (2x) = (-2) * (y^3 / x)`.\\n\\nStep 3: Combine the simplified terms from Step 2. The expression now becomes `(3/2) * x - 2 * (y^3 / x)`.\\n\\nSo, the simplified form of the algebraic expression `(3x^2 - 4y^3) / (2x)` is `(3/2) * x - 2 * (y^3 / x)`.', 'role': 'assistant'}]], 'rejected': [[{'content': 'How can I simplify the algebraic expression `(3x^2 - 4y^3) / (2x)`?.\\n Take a deep breath, think step by step, and give an accurate response', 'role': 'user'}, {'content': \"To simplify the algebraic expression `(3x^2 - 4y^3) / (2x)`, you can divide each term in the numerator by the denominator.\\n\\nFirst, let's divide `3x^2` by `2x`. Since both terms have a common factor of `x`, we can simplify this expression to `3x`.\\n\\nNext, we divide `-4y^3` by `2x`. We can simplify this expression by dividing each term separately. \\n\\nDividing `-4` by `2` gives `-2`. Then, dividing `y^3` by `x` gives `y^3/x`.\\n\\nSo, the simplified form of `(3x^2 - 4y^3) / (2x)` is `3x - 2y^3/x`.\", 'role': 'assistant'}]], 'prompt': ['How can I simplify the algebraic expression `(3x^2 - 4y^3) / (2x)`?.\\n Take a deep breath, think step by step, and give an accurate response']}\n"
     ]
    }
   ],
   "source": [
    "# Print the combined dataset schema and a few rows to verify\n",
    "print(final_dataset)\n",
    "print(final_dataset['train'][:1])"
   ]
  },
  {
   "cell_type": "markdown",
   "id": "073e7195-30cc-4fca-a662-7653a80a8895",
   "metadata": {},
   "source": [
    "Explanation:\n",
    "\n",
    "We print the structure of the final dataset and the first few entries to ensure everything is correctly formatted."
   ]
  },
  {
   "cell_type": "markdown",
   "id": "f4041ef6-9e40-4591-a182-23aa7a598e0a",
   "metadata": {},
   "source": [
    "## Conclusion\n",
    "\n",
    "In this article, we've journeyed through the process of building a high-quality DPO dataset by carefully aggregating and standardizing multiple existing datasets. By focusing on extracting only the best answers and ensuring a consistent schema, we've created a robust resource that can significantly enhance the performance of language models fine-tuned using Direct Preference Optimization.\n",
    "\n",
    "This approach not only streamlines the training process but also ensures that our models are more closely aligned with human preferences, leading to outputs that are more accurate, reliable, and satisfying for users. As language models continue to evolve, techniques like DPO and the careful curation of training data become ever more important.\n",
    "\n",
    "By investing time in building superior datasets, we lay the groundwork for more advanced, aligned, and human-centric AI models in the future. I encourage practitioners to apply these methods, explore further optimizations, and contribute to the ongoing effort to align AI models with human values and expectations.\n",
    "\n",
    "I hope you found this guide helpful. If you liked this article, follow me on Hugging Face [@llmat](https://huggingface.co/llmat). Best of luck with your model fine-tuning!"
   ]
  },
  {
   "cell_type": "markdown",
   "id": "2d55d2a4-4723-4330-8752-4e2e2b2f0afd",
   "metadata": {},
   "source": [
    "## References\n",
    "\n",
    "- Rafailov, R., Sharma, A., Mitchell, E., Ermon, S., Manning, C. D., & Finn, C. (2023). *Direct Preference Optimization: Your Language Model is Secretly a Reward Model*. arXiv preprint [arXiv:2305.18290](arXiv:2305.18290).\n",
    "\n",
    "- Hugging Face. (n.d.). *Datasets*. Retrieved November 1, 2024, from https://huggingface.co/docs/datasets/index"
   ]
  },
  {
   "cell_type": "code",
   "execution_count": null,
   "id": "83991c84-6ccc-44b8-a24a-4aed2736e016",
   "metadata": {},
   "outputs": [],
   "source": []
  }
 ],
 "metadata": {
  "kernelspec": {
   "display_name": "Python 3 (ipykernel)",
   "language": "python",
   "name": "python3"
  },
  "language_info": {
   "codemirror_mode": {
    "name": "ipython",
    "version": 3
   },
   "file_extension": ".py",
   "mimetype": "text/x-python",
   "name": "python",
   "nbconvert_exporter": "python",
   "pygments_lexer": "ipython3",
   "version": "3.10.1"
  }
 },
 "nbformat": 4,
 "nbformat_minor": 5
}
